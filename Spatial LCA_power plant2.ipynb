{
 "cells": [
  {
   "cell_type": "code",
   "execution_count": 1,
   "metadata": {},
   "outputs": [
    {
     "data": {
      "application/javascript": [
       "\n",
       "            setTimeout(function() {\n",
       "                var nbb_cell_id = 1;\n",
       "                var nbb_unformatted_code = \"import numpy as np\\nimport pandas as pd\\nimport geopandas as gpd\\nimport matplotlib.pyplot as plt\\nimport networkx as nx\\nimport pickle\\nimport os\\n\\n%load_ext nb_black\";\n",
       "                var nbb_formatted_code = \"import numpy as np\\nimport pandas as pd\\nimport geopandas as gpd\\nimport matplotlib.pyplot as plt\\nimport networkx as nx\\nimport pickle\\nimport os\\n\\n%load_ext nb_black\";\n",
       "                var nbb_cells = Jupyter.notebook.get_cells();\n",
       "                for (var i = 0; i < nbb_cells.length; ++i) {\n",
       "                    if (nbb_cells[i].input_prompt_number == nbb_cell_id) {\n",
       "                        if (nbb_cells[i].get_text() == nbb_unformatted_code) {\n",
       "                             nbb_cells[i].set_text(nbb_formatted_code);\n",
       "                        }\n",
       "                        break;\n",
       "                    }\n",
       "                }\n",
       "            }, 500);\n",
       "            "
      ],
      "text/plain": [
       "<IPython.core.display.Javascript object>"
      ]
     },
     "metadata": {},
     "output_type": "display_data"
    }
   ],
   "source": [
    "import numpy as np\n",
    "import pandas as pd\n",
    "import geopandas as gpd\n",
    "import matplotlib.pyplot as plt\n",
    "import networkx as nx\n",
    "import pickle\n",
    "import os\n",
    "\n",
    "%load_ext nb_black"
   ]
  },
  {
   "cell_type": "code",
   "execution_count": 2,
   "metadata": {},
   "outputs": [
    {
     "data": {
      "application/javascript": [
       "\n",
       "            setTimeout(function() {\n",
       "                var nbb_cell_id = 2;\n",
       "                var nbb_unformatted_code = \"data_dir = r\\\"E:\\\\tencent files\\\\chrome Download\\\\Research\\\\LCA\\\\LCA Coal_fired power plant phaseout\\\\data\\\"\\ndistance_dir_year = r\\\"coal_transport2010\\\"\\ndistance_dir_matrix = r\\\"Distance_matrix\\\"\\ndistance_dir = os.path.join(data_dir, distance_dir_year, distance_dir_matrix)\";\n",
       "                var nbb_formatted_code = \"data_dir = r\\\"E:\\\\tencent files\\\\chrome Download\\\\Research\\\\LCA\\\\LCA Coal_fired power plant phaseout\\\\data\\\"\\ndistance_dir_year = r\\\"coal_transport2010\\\"\\ndistance_dir_matrix = r\\\"Distance_matrix\\\"\\ndistance_dir = os.path.join(data_dir, distance_dir_year, distance_dir_matrix)\";\n",
       "                var nbb_cells = Jupyter.notebook.get_cells();\n",
       "                for (var i = 0; i < nbb_cells.length; ++i) {\n",
       "                    if (nbb_cells[i].input_prompt_number == nbb_cell_id) {\n",
       "                        if (nbb_cells[i].get_text() == nbb_unformatted_code) {\n",
       "                             nbb_cells[i].set_text(nbb_formatted_code);\n",
       "                        }\n",
       "                        break;\n",
       "                    }\n",
       "                }\n",
       "            }, 500);\n",
       "            "
      ],
      "text/plain": [
       "<IPython.core.display.Javascript object>"
      ]
     },
     "metadata": {},
     "output_type": "display_data"
    }
   ],
   "source": [
    "data_dir = r\"E:\\tencent files\\chrome Download\\Research\\LCA\\LCA Coal_fired power plant phaseout\\data\"\n",
    "distance_dir_year = r\"coal_transport2010\"\n",
    "distance_dir_matrix = r\"Distance_matrix\"\n",
    "distance_dir = os.path.join(data_dir, distance_dir_year, distance_dir_matrix)"
   ]
  },
  {
   "cell_type": "code",
   "execution_count": 3,
   "metadata": {},
   "outputs": [
    {
     "data": {
      "application/javascript": [
       "\n",
       "            setTimeout(function() {\n",
       "                var nbb_cell_id = 3;\n",
       "                var nbb_unformatted_code = \"list_file = os.listdir(distance_dir)\";\n",
       "                var nbb_formatted_code = \"list_file = os.listdir(distance_dir)\";\n",
       "                var nbb_cells = Jupyter.notebook.get_cells();\n",
       "                for (var i = 0; i < nbb_cells.length; ++i) {\n",
       "                    if (nbb_cells[i].input_prompt_number == nbb_cell_id) {\n",
       "                        if (nbb_cells[i].get_text() == nbb_unformatted_code) {\n",
       "                             nbb_cells[i].set_text(nbb_formatted_code);\n",
       "                        }\n",
       "                        break;\n",
       "                    }\n",
       "                }\n",
       "            }, 500);\n",
       "            "
      ],
      "text/plain": [
       "<IPython.core.display.Javascript object>"
      ]
     },
     "metadata": {},
     "output_type": "display_data"
    }
   ],
   "source": [
    "list_file = os.listdir(distance_dir)"
   ]
  },
  {
   "cell_type": "code",
   "execution_count": 4,
   "metadata": {},
   "outputs": [
    {
     "data": {
      "text/plain": [
       "262"
      ]
     },
     "execution_count": 4,
     "metadata": {},
     "output_type": "execute_result"
    },
    {
     "data": {
      "application/javascript": [
       "\n",
       "            setTimeout(function() {\n",
       "                var nbb_cell_id = 4;\n",
       "                var nbb_unformatted_code = \"len(list_file)\";\n",
       "                var nbb_formatted_code = \"len(list_file)\";\n",
       "                var nbb_cells = Jupyter.notebook.get_cells();\n",
       "                for (var i = 0; i < nbb_cells.length; ++i) {\n",
       "                    if (nbb_cells[i].input_prompt_number == nbb_cell_id) {\n",
       "                        if (nbb_cells[i].get_text() == nbb_unformatted_code) {\n",
       "                             nbb_cells[i].set_text(nbb_formatted_code);\n",
       "                        }\n",
       "                        break;\n",
       "                    }\n",
       "                }\n",
       "            }, 500);\n",
       "            "
      ],
      "text/plain": [
       "<IPython.core.display.Javascript object>"
      ]
     },
     "metadata": {},
     "output_type": "display_data"
    }
   ],
   "source": [
    "len(list_file)"
   ]
  },
  {
   "cell_type": "code",
   "execution_count": 5,
   "metadata": {},
   "outputs": [
    {
     "name": "stdout",
     "output_type": "stream",
     "text": [
      "Wall time: 3min 25s\n"
     ]
    },
    {
     "data": {
      "application/javascript": [
       "\n",
       "            setTimeout(function() {\n",
       "                var nbb_cell_id = 5;\n",
       "                var nbb_unformatted_code = \"%%time\\nDistance_matrix = pd.DataFrame()\\nfor i in range(len(list_file)):\\n    with open(os.path.join(distance_dir, list_file[i]), \\\"rb\\\") as file:\\n        dis_df = pickle.load(file)['path_length']\\n        Distance_matrix[list_file[i][:6]]=dis_df\";\n",
       "                var nbb_formatted_code = \"%%time\\nDistance_matrix = pd.DataFrame()\\nfor i in range(len(list_file)):\\n    with open(os.path.join(distance_dir, list_file[i]), \\\"rb\\\") as file:\\n        dis_df = pickle.load(file)['path_length']\\n        Distance_matrix[list_file[i][:6]]=dis_df\";\n",
       "                var nbb_cells = Jupyter.notebook.get_cells();\n",
       "                for (var i = 0; i < nbb_cells.length; ++i) {\n",
       "                    if (nbb_cells[i].input_prompt_number == nbb_cell_id) {\n",
       "                        if (nbb_cells[i].get_text() == nbb_unformatted_code) {\n",
       "                             nbb_cells[i].set_text(nbb_formatted_code);\n",
       "                        }\n",
       "                        break;\n",
       "                    }\n",
       "                }\n",
       "            }, 500);\n",
       "            "
      ],
      "text/plain": [
       "<IPython.core.display.Javascript object>"
      ]
     },
     "metadata": {},
     "output_type": "display_data"
    }
   ],
   "source": [
    "%%time\n",
    "Distance_matrix = pd.DataFrame()\n",
    "for i in range(len(list_file)):\n",
    "    with open(os.path.join(distance_dir, list_file[i]), \"rb\") as file:\n",
    "        dis_df = pickle.load(file)['path_length']\n",
    "        Distance_matrix[list_file[i][:6]]=dis_df"
   ]
  },
  {
   "cell_type": "code",
   "execution_count": 6,
   "metadata": {},
   "outputs": [
    {
     "data": {
      "application/javascript": [
       "\n",
       "            setTimeout(function() {\n",
       "                var nbb_cell_id = 6;\n",
       "                var nbb_unformatted_code = \"Distance_matrix.to_excel(\\n    os.path.join(data_dir, distance_dir_year) + \\\"\\\\path_length.xlsx\\\"\\n)\";\n",
       "                var nbb_formatted_code = \"Distance_matrix.to_excel(\\n    os.path.join(data_dir, distance_dir_year) + \\\"\\\\path_length.xlsx\\\"\\n)\";\n",
       "                var nbb_cells = Jupyter.notebook.get_cells();\n",
       "                for (var i = 0; i < nbb_cells.length; ++i) {\n",
       "                    if (nbb_cells[i].input_prompt_number == nbb_cell_id) {\n",
       "                        if (nbb_cells[i].get_text() == nbb_unformatted_code) {\n",
       "                             nbb_cells[i].set_text(nbb_formatted_code);\n",
       "                        }\n",
       "                        break;\n",
       "                    }\n",
       "                }\n",
       "            }, 500);\n",
       "            "
      ],
      "text/plain": [
       "<IPython.core.display.Javascript object>"
      ]
     },
     "metadata": {},
     "output_type": "display_data"
    }
   ],
   "source": [
    "Distance_matrix.to_excel(\n",
    "    os.path.join(data_dir, distance_dir_year) + \"\\path_length.xlsx\"\n",
    ")"
   ]
  },
  {
   "cell_type": "code",
   "execution_count": 58,
   "metadata": {},
   "outputs": [
    {
     "name": "stdout",
     "output_type": "stream",
     "text": [
      "Wall time: 11min 37s\n"
     ]
    },
    {
     "data": {
      "application/javascript": [
       "\n",
       "            setTimeout(function() {\n",
       "                var nbb_cell_id = 58;\n",
       "                var nbb_unformatted_code = \"%%time\\npath_matrix = pd.DataFrame()\\nfor i in range(len(list_file)):\\n   with open(os.path.join(distance_dir, list_file[i]), \\\"rb\\\") as file:\\n        dis_df = pickle.load(file)['geometry']\\n        path_matrix[list_file[i][:6]]=dis_df\";\n",
       "                var nbb_formatted_code = \"%%time\\npath_matrix = pd.DataFrame()\\nfor i in range(len(list_file)):\\n   with open(os.path.join(distance_dir, list_file[i]), \\\"rb\\\") as file:\\n        dis_df = pickle.load(file)['geometry']\\n        path_matrix[list_file[i][:6]]=dis_df\";\n",
       "                var nbb_cells = Jupyter.notebook.get_cells();\n",
       "                for (var i = 0; i < nbb_cells.length; ++i) {\n",
       "                    if (nbb_cells[i].input_prompt_number == nbb_cell_id) {\n",
       "                        if (nbb_cells[i].get_text() == nbb_unformatted_code) {\n",
       "                             nbb_cells[i].set_text(nbb_formatted_code);\n",
       "                        }\n",
       "                        break;\n",
       "                    }\n",
       "                }\n",
       "            }, 500);\n",
       "            "
      ],
      "text/plain": [
       "<IPython.core.display.Javascript object>"
      ]
     },
     "metadata": {},
     "output_type": "display_data"
    }
   ],
   "source": [
    "%%time\n",
    "path_matrix = pd.DataFrame()\n",
    "for i in range(len(list_file)):\n",
    "   with open(os.path.join(distance_dir, list_file[i]), \"rb\") as file:\n",
    "        dis_df = pickle.load(file)['geometry']\n",
    "        path_matrix[list_file[i][:6]]=dis_df"
   ]
  },
  {
   "cell_type": "code",
   "execution_count": null,
   "metadata": {},
   "outputs": [],
   "source": [
    "with open(os.path.join(data_dir, distance_dir_year,\"path.pickle\") ,'wb') as file:\n",
    "    pickle.dump(path_matrix,file)"
   ]
  },
  {
   "cell_type": "code",
   "execution_count": 8,
   "metadata": {},
   "outputs": [
    {
     "data": {
      "application/javascript": [
       "\n",
       "            setTimeout(function() {\n",
       "                var nbb_cell_id = 8;\n",
       "                var nbb_unformatted_code = \"from shapely.geometry import LineString, Point, Polygon\";\n",
       "                var nbb_formatted_code = \"from shapely.geometry import LineString, Point, Polygon\";\n",
       "                var nbb_cells = Jupyter.notebook.get_cells();\n",
       "                for (var i = 0; i < nbb_cells.length; ++i) {\n",
       "                    if (nbb_cells[i].input_prompt_number == nbb_cell_id) {\n",
       "                        if (nbb_cells[i].get_text() == nbb_unformatted_code) {\n",
       "                             nbb_cells[i].set_text(nbb_formatted_code);\n",
       "                        }\n",
       "                        break;\n",
       "                    }\n",
       "                }\n",
       "            }, 500);\n",
       "            "
      ],
      "text/plain": [
       "<IPython.core.display.Javascript object>"
      ]
     },
     "metadata": {},
     "output_type": "display_data"
    }
   ],
   "source": [
    "from shapely.geometry import LineString, Point, Polygon"
   ]
  },
  {
   "cell_type": "markdown",
   "metadata": {},
   "source": [
    "## 公路运距"
   ]
  },
  {
   "cell_type": "code",
   "execution_count": 9,
   "metadata": {},
   "outputs": [
    {
     "data": {
      "text/plain": [
       "node_id\n",
       "119318       997.538437\n",
       "119320       614.591250\n",
       "119322      1890.030034\n",
       "119324      6294.310051\n",
       "119326      7648.634567\n",
       "              ...      \n",
       "119672    111471.697265\n",
       "119673     10244.661299\n",
       "119674       388.698779\n",
       "119676       591.651267\n",
       "119677     22956.421760\n",
       "Name: length, Length: 262, dtype: float64"
      ]
     },
     "execution_count": 9,
     "metadata": {},
     "output_type": "execute_result"
    },
    {
     "data": {
      "application/javascript": [
       "\n",
       "            setTimeout(function() {\n",
       "                var nbb_cell_id = 9;\n",
       "                var nbb_unformatted_code = \"road_length_power = (\\n    pd.read_excel(os.path.join(data_dir, distance_dir_year, \\\"node_power_pair.xlsx\\\"))\\n    .groupby(\\\"node_id\\\")[\\\"length\\\"]\\n    .mean()\\n)\\nroad_length_power\";\n",
       "                var nbb_formatted_code = \"road_length_power = (\\n    pd.read_excel(os.path.join(data_dir, distance_dir_year, \\\"node_power_pair.xlsx\\\"))\\n    .groupby(\\\"node_id\\\")[\\\"length\\\"]\\n    .mean()\\n)\\nroad_length_power\";\n",
       "                var nbb_cells = Jupyter.notebook.get_cells();\n",
       "                for (var i = 0; i < nbb_cells.length; ++i) {\n",
       "                    if (nbb_cells[i].input_prompt_number == nbb_cell_id) {\n",
       "                        if (nbb_cells[i].get_text() == nbb_unformatted_code) {\n",
       "                             nbb_cells[i].set_text(nbb_formatted_code);\n",
       "                        }\n",
       "                        break;\n",
       "                    }\n",
       "                }\n",
       "            }, 500);\n",
       "            "
      ],
      "text/plain": [
       "<IPython.core.display.Javascript object>"
      ]
     },
     "metadata": {},
     "output_type": "display_data"
    }
   ],
   "source": [
    "road_length_power = (\n",
    "    pd.read_excel(os.path.join(data_dir, distance_dir_year, \"node_power_pair.xlsx\"))\n",
    "    .groupby(\"node_id\")[\"length\"]\n",
    "    .mean()\n",
    ")\n",
    "road_length_power"
   ]
  },
  {
   "cell_type": "code",
   "execution_count": 10,
   "metadata": {},
   "outputs": [
    {
     "data": {
      "text/plain": [
       "node_id\n",
       "116330     7459.796010\n",
       "116331    14812.624847\n",
       "116332    12117.941804\n",
       "116333     1112.508772\n",
       "116335     2164.514319\n",
       "              ...     \n",
       "119311    40665.418460\n",
       "119312    27327.391198\n",
       "119313     7738.712582\n",
       "119315     6496.603399\n",
       "119317    96355.265326\n",
       "Name: length, Length: 2190, dtype: float64"
      ]
     },
     "execution_count": 10,
     "metadata": {},
     "output_type": "execute_result"
    },
    {
     "data": {
      "application/javascript": [
       "\n",
       "            setTimeout(function() {\n",
       "                var nbb_cell_id = 10;\n",
       "                var nbb_unformatted_code = \"road_length_mine = (\\n    pd.read_excel(os.path.join(data_dir, distance_dir_year, \\\"node_mine_pair.xlsx\\\"))\\n    .groupby(\\\"node_id\\\")[\\\"length\\\"]\\n    .mean()\\n)\\nroad_length_mine\";\n",
       "                var nbb_formatted_code = \"road_length_mine = (\\n    pd.read_excel(os.path.join(data_dir, distance_dir_year, \\\"node_mine_pair.xlsx\\\"))\\n    .groupby(\\\"node_id\\\")[\\\"length\\\"]\\n    .mean()\\n)\\nroad_length_mine\";\n",
       "                var nbb_cells = Jupyter.notebook.get_cells();\n",
       "                for (var i = 0; i < nbb_cells.length; ++i) {\n",
       "                    if (nbb_cells[i].input_prompt_number == nbb_cell_id) {\n",
       "                        if (nbb_cells[i].get_text() == nbb_unformatted_code) {\n",
       "                             nbb_cells[i].set_text(nbb_formatted_code);\n",
       "                        }\n",
       "                        break;\n",
       "                    }\n",
       "                }\n",
       "            }, 500);\n",
       "            "
      ],
      "text/plain": [
       "<IPython.core.display.Javascript object>"
      ]
     },
     "metadata": {},
     "output_type": "display_data"
    }
   ],
   "source": [
    "road_length_mine = (\n",
    "    pd.read_excel(os.path.join(data_dir, distance_dir_year, \"node_mine_pair.xlsx\"))\n",
    "    .groupby(\"node_id\")[\"length\"]\n",
    "    .mean()\n",
    ")\n",
    "road_length_mine"
   ]
  },
  {
   "cell_type": "code",
   "execution_count": 11,
   "metadata": {},
   "outputs": [
    {
     "data": {
      "application/javascript": [
       "\n",
       "            setTimeout(function() {\n",
       "                var nbb_cell_id = 11;\n",
       "                var nbb_unformatted_code = \"road_path = pd.DataFrame(\\n    np.array(road_length_power).reshape(1, len(road_length_power))\\n    + np.array(road_length_mine).reshape(len(road_length_mine), 1),\\n    index=road_length_mine.index,\\n    columns=road_length_power.index,\\n)\";\n",
       "                var nbb_formatted_code = \"road_path = pd.DataFrame(\\n    np.array(road_length_power).reshape(1, len(road_length_power))\\n    + np.array(road_length_mine).reshape(len(road_length_mine), 1),\\n    index=road_length_mine.index,\\n    columns=road_length_power.index,\\n)\";\n",
       "                var nbb_cells = Jupyter.notebook.get_cells();\n",
       "                for (var i = 0; i < nbb_cells.length; ++i) {\n",
       "                    if (nbb_cells[i].input_prompt_number == nbb_cell_id) {\n",
       "                        if (nbb_cells[i].get_text() == nbb_unformatted_code) {\n",
       "                             nbb_cells[i].set_text(nbb_formatted_code);\n",
       "                        }\n",
       "                        break;\n",
       "                    }\n",
       "                }\n",
       "            }, 500);\n",
       "            "
      ],
      "text/plain": [
       "<IPython.core.display.Javascript object>"
      ]
     },
     "metadata": {},
     "output_type": "display_data"
    }
   ],
   "source": [
    "road_path = pd.DataFrame(\n",
    "    np.array(road_length_power).reshape(1, len(road_length_power))\n",
    "    + np.array(road_length_mine).reshape(len(road_length_mine), 1),\n",
    "    index=road_length_mine.index,\n",
    "    columns=road_length_power.index,\n",
    ")"
   ]
  },
  {
   "cell_type": "code",
   "execution_count": 15,
   "metadata": {},
   "outputs": [
    {
     "data": {
      "text/html": [
       "<div>\n",
       "<style scoped>\n",
       "    .dataframe tbody tr th:only-of-type {\n",
       "        vertical-align: middle;\n",
       "    }\n",
       "\n",
       "    .dataframe tbody tr th {\n",
       "        vertical-align: top;\n",
       "    }\n",
       "\n",
       "    .dataframe thead th {\n",
       "        text-align: right;\n",
       "    }\n",
       "</style>\n",
       "<table border=\"1\" class=\"dataframe\">\n",
       "  <thead>\n",
       "    <tr style=\"text-align: right;\">\n",
       "      <th>node_id</th>\n",
       "      <th>119318</th>\n",
       "      <th>119320</th>\n",
       "      <th>119322</th>\n",
       "      <th>119324</th>\n",
       "      <th>119326</th>\n",
       "      <th>119327</th>\n",
       "      <th>119328</th>\n",
       "      <th>119329</th>\n",
       "      <th>119331</th>\n",
       "      <th>119332</th>\n",
       "      <th>119333</th>\n",
       "      <th>119334</th>\n",
       "    </tr>\n",
       "    <tr>\n",
       "      <th>node_id</th>\n",
       "      <th></th>\n",
       "      <th></th>\n",
       "      <th></th>\n",
       "      <th></th>\n",
       "      <th></th>\n",
       "      <th></th>\n",
       "      <th></th>\n",
       "      <th></th>\n",
       "      <th></th>\n",
       "      <th></th>\n",
       "      <th></th>\n",
       "      <th></th>\n",
       "    </tr>\n",
       "  </thead>\n",
       "  <tbody>\n",
       "    <tr>\n",
       "      <th>116330</th>\n",
       "      <td>8457.334447</td>\n",
       "      <td>8074.387260</td>\n",
       "      <td>9349.826044</td>\n",
       "      <td>13754.106061</td>\n",
       "      <td>15108.430577</td>\n",
       "      <td>100743.502765</td>\n",
       "      <td>11506.265979</td>\n",
       "      <td>10305.754517</td>\n",
       "      <td>17468.935713</td>\n",
       "      <td>23441.301868</td>\n",
       "      <td>88062.838902</td>\n",
       "      <td>52255.504657</td>\n",
       "    </tr>\n",
       "    <tr>\n",
       "      <th>116331</th>\n",
       "      <td>15810.163284</td>\n",
       "      <td>15427.216097</td>\n",
       "      <td>16702.654881</td>\n",
       "      <td>21106.934898</td>\n",
       "      <td>22461.259414</td>\n",
       "      <td>108096.331602</td>\n",
       "      <td>18859.094816</td>\n",
       "      <td>17658.583354</td>\n",
       "      <td>24821.764550</td>\n",
       "      <td>30794.130705</td>\n",
       "      <td>95415.667739</td>\n",
       "      <td>59608.333494</td>\n",
       "    </tr>\n",
       "    <tr>\n",
       "      <th>116332</th>\n",
       "      <td>13115.480241</td>\n",
       "      <td>12732.533053</td>\n",
       "      <td>14007.971838</td>\n",
       "      <td>18412.251855</td>\n",
       "      <td>19766.576371</td>\n",
       "      <td>105401.648558</td>\n",
       "      <td>16164.411772</td>\n",
       "      <td>14963.900311</td>\n",
       "      <td>22127.081507</td>\n",
       "      <td>28099.447662</td>\n",
       "      <td>92720.984695</td>\n",
       "      <td>56913.650450</td>\n",
       "    </tr>\n",
       "    <tr>\n",
       "      <th>116333</th>\n",
       "      <td>2110.047209</td>\n",
       "      <td>1727.100022</td>\n",
       "      <td>3002.538806</td>\n",
       "      <td>7406.818823</td>\n",
       "      <td>8761.143339</td>\n",
       "      <td>94396.215527</td>\n",
       "      <td>5158.978741</td>\n",
       "      <td>3958.467280</td>\n",
       "      <td>11121.648476</td>\n",
       "      <td>17094.014631</td>\n",
       "      <td>81715.551664</td>\n",
       "      <td>45908.217419</td>\n",
       "    </tr>\n",
       "    <tr>\n",
       "      <th>116335</th>\n",
       "      <td>3162.052756</td>\n",
       "      <td>2779.105569</td>\n",
       "      <td>4054.544353</td>\n",
       "      <td>8458.824370</td>\n",
       "      <td>9813.148886</td>\n",
       "      <td>95448.221074</td>\n",
       "      <td>6210.984288</td>\n",
       "      <td>5010.472826</td>\n",
       "      <td>12173.654022</td>\n",
       "      <td>18146.020177</td>\n",
       "      <td>82767.557211</td>\n",
       "      <td>46960.222966</td>\n",
       "    </tr>\n",
       "  </tbody>\n",
       "</table>\n",
       "</div>"
      ],
      "text/plain": [
       "node_id        119318        119320        119322        119324        119326  \\\n",
       "node_id                                                                         \n",
       "116330    8457.334447   8074.387260   9349.826044  13754.106061  15108.430577   \n",
       "116331   15810.163284  15427.216097  16702.654881  21106.934898  22461.259414   \n",
       "116332   13115.480241  12732.533053  14007.971838  18412.251855  19766.576371   \n",
       "116333    2110.047209   1727.100022   3002.538806   7406.818823   8761.143339   \n",
       "116335    3162.052756   2779.105569   4054.544353   8458.824370   9813.148886   \n",
       "\n",
       "node_id         119327        119328        119329        119331  \\\n",
       "node_id                                                            \n",
       "116330   100743.502765  11506.265979  10305.754517  17468.935713   \n",
       "116331   108096.331602  18859.094816  17658.583354  24821.764550   \n",
       "116332   105401.648558  16164.411772  14963.900311  22127.081507   \n",
       "116333    94396.215527   5158.978741   3958.467280  11121.648476   \n",
       "116335    95448.221074   6210.984288   5010.472826  12173.654022   \n",
       "\n",
       "node_id        119332        119333        119334  \n",
       "node_id                                            \n",
       "116330   23441.301868  88062.838902  52255.504657  \n",
       "116331   30794.130705  95415.667739  59608.333494  \n",
       "116332   28099.447662  92720.984695  56913.650450  \n",
       "116333   17094.014631  81715.551664  45908.217419  \n",
       "116335   18146.020177  82767.557211  46960.222966  "
      ]
     },
     "execution_count": 15,
     "metadata": {},
     "output_type": "execute_result"
    },
    {
     "data": {
      "application/javascript": [
       "\n",
       "            setTimeout(function() {\n",
       "                var nbb_cell_id = 15;\n",
       "                var nbb_unformatted_code = \"road_path.head().iloc[:, :12]\";\n",
       "                var nbb_formatted_code = \"road_path.head().iloc[:, :12]\";\n",
       "                var nbb_cells = Jupyter.notebook.get_cells();\n",
       "                for (var i = 0; i < nbb_cells.length; ++i) {\n",
       "                    if (nbb_cells[i].input_prompt_number == nbb_cell_id) {\n",
       "                        if (nbb_cells[i].get_text() == nbb_unformatted_code) {\n",
       "                             nbb_cells[i].set_text(nbb_formatted_code);\n",
       "                        }\n",
       "                        break;\n",
       "                    }\n",
       "                }\n",
       "            }, 500);\n",
       "            "
      ],
      "text/plain": [
       "<IPython.core.display.Javascript object>"
      ]
     },
     "metadata": {},
     "output_type": "display_data"
    }
   ],
   "source": [
    "road_path.head().iloc[:, :12]"
   ]
  },
  {
   "cell_type": "markdown",
   "metadata": {},
   "source": [
    "## 铁路运距"
   ]
  },
  {
   "cell_type": "code",
   "execution_count": 16,
   "metadata": {},
   "outputs": [
    {
     "data": {
      "application/javascript": [
       "\n",
       "            setTimeout(function() {\n",
       "                var nbb_cell_id = 16;\n",
       "                var nbb_unformatted_code = \"distance_matrix = pd.read_excel(\\n    os.path.join(data_dir, distance_dir_year, \\\"path_length.xlsx\\\"), index_col=0\\n)\";\n",
       "                var nbb_formatted_code = \"distance_matrix = pd.read_excel(\\n    os.path.join(data_dir, distance_dir_year, \\\"path_length.xlsx\\\"), index_col=0\\n)\";\n",
       "                var nbb_cells = Jupyter.notebook.get_cells();\n",
       "                for (var i = 0; i < nbb_cells.length; ++i) {\n",
       "                    if (nbb_cells[i].input_prompt_number == nbb_cell_id) {\n",
       "                        if (nbb_cells[i].get_text() == nbb_unformatted_code) {\n",
       "                             nbb_cells[i].set_text(nbb_formatted_code);\n",
       "                        }\n",
       "                        break;\n",
       "                    }\n",
       "                }\n",
       "            }, 500);\n",
       "            "
      ],
      "text/plain": [
       "<IPython.core.display.Javascript object>"
      ]
     },
     "metadata": {},
     "output_type": "display_data"
    }
   ],
   "source": [
    "distance_matrix = pd.read_excel(\n",
    "    os.path.join(data_dir, distance_dir_year, \"path_length.xlsx\"), index_col=0\n",
    ")"
   ]
  },
  {
   "cell_type": "code",
   "execution_count": 17,
   "metadata": {},
   "outputs": [
    {
     "data": {
      "application/javascript": [
       "\n",
       "            setTimeout(function() {\n",
       "                var nbb_cell_id = 17;\n",
       "                var nbb_unformatted_code = \"rail_path = pd.DataFrame(\\n    np.array(distance_matrix) - np.array(road_path),\\n    index=road_length_mine.index,\\n    columns=road_length_power.index,\\n)\";\n",
       "                var nbb_formatted_code = \"rail_path = pd.DataFrame(\\n    np.array(distance_matrix) - np.array(road_path),\\n    index=road_length_mine.index,\\n    columns=road_length_power.index,\\n)\";\n",
       "                var nbb_cells = Jupyter.notebook.get_cells();\n",
       "                for (var i = 0; i < nbb_cells.length; ++i) {\n",
       "                    if (nbb_cells[i].input_prompt_number == nbb_cell_id) {\n",
       "                        if (nbb_cells[i].get_text() == nbb_unformatted_code) {\n",
       "                             nbb_cells[i].set_text(nbb_formatted_code);\n",
       "                        }\n",
       "                        break;\n",
       "                    }\n",
       "                }\n",
       "            }, 500);\n",
       "            "
      ],
      "text/plain": [
       "<IPython.core.display.Javascript object>"
      ]
     },
     "metadata": {},
     "output_type": "display_data"
    }
   ],
   "source": [
    "rail_path = pd.DataFrame(\n",
    "    np.array(distance_matrix) - np.array(road_path),\n",
    "    index=road_length_mine.index,\n",
    "    columns=road_length_power.index,\n",
    ")"
   ]
  },
  {
   "cell_type": "code",
   "execution_count": 18,
   "metadata": {},
   "outputs": [
    {
     "data": {
      "application/javascript": [
       "\n",
       "            setTimeout(function() {\n",
       "                var nbb_cell_id = 18;\n",
       "                var nbb_unformatted_code = \"road_price = 0.08417\\nrail_price = 0.01544\\nroad_cost = road_path * road_price\\nrail_cost = rail_path * rail_price\";\n",
       "                var nbb_formatted_code = \"road_price = 0.08417\\nrail_price = 0.01544\\nroad_cost = road_path * road_price\\nrail_cost = rail_path * rail_price\";\n",
       "                var nbb_cells = Jupyter.notebook.get_cells();\n",
       "                for (var i = 0; i < nbb_cells.length; ++i) {\n",
       "                    if (nbb_cells[i].input_prompt_number == nbb_cell_id) {\n",
       "                        if (nbb_cells[i].get_text() == nbb_unformatted_code) {\n",
       "                             nbb_cells[i].set_text(nbb_formatted_code);\n",
       "                        }\n",
       "                        break;\n",
       "                    }\n",
       "                }\n",
       "            }, 500);\n",
       "            "
      ],
      "text/plain": [
       "<IPython.core.display.Javascript object>"
      ]
     },
     "metadata": {},
     "output_type": "display_data"
    }
   ],
   "source": [
    "road_price = 0.08417\n",
    "rail_price = 0.01544\n",
    "road_cost = road_path * road_price\n",
    "rail_cost = rail_path * rail_price"
   ]
  },
  {
   "cell_type": "code",
   "execution_count": 19,
   "metadata": {},
   "outputs": [
    {
     "data": {
      "application/javascript": [
       "\n",
       "            setTimeout(function() {\n",
       "                var nbb_cell_id = 19;\n",
       "                var nbb_unformatted_code = \"transport_cost_matrix = road_cost + rail_cost\";\n",
       "                var nbb_formatted_code = \"transport_cost_matrix = road_cost + rail_cost\";\n",
       "                var nbb_cells = Jupyter.notebook.get_cells();\n",
       "                for (var i = 0; i < nbb_cells.length; ++i) {\n",
       "                    if (nbb_cells[i].input_prompt_number == nbb_cell_id) {\n",
       "                        if (nbb_cells[i].get_text() == nbb_unformatted_code) {\n",
       "                             nbb_cells[i].set_text(nbb_formatted_code);\n",
       "                        }\n",
       "                        break;\n",
       "                    }\n",
       "                }\n",
       "            }, 500);\n",
       "            "
      ],
      "text/plain": [
       "<IPython.core.display.Javascript object>"
      ]
     },
     "metadata": {},
     "output_type": "display_data"
    }
   ],
   "source": [
    "transport_cost_matrix = road_cost + rail_cost"
   ]
  },
  {
   "cell_type": "code",
   "execution_count": 20,
   "metadata": {},
   "outputs": [
    {
     "data": {
      "application/javascript": [
       "\n",
       "            setTimeout(function() {\n",
       "                var nbb_cell_id = 20;\n",
       "                var nbb_unformatted_code = \"road_path.to_excel(os.path.join(data_dir, distance_dir_year, \\\"road_path_length.xlsx\\\"))\\nrail_path.to_excel(os.path.join(data_dir, distance_dir_year, \\\"rail_path_length.xlsx\\\"))\";\n",
       "                var nbb_formatted_code = \"road_path.to_excel(os.path.join(data_dir, distance_dir_year, \\\"road_path_length.xlsx\\\"))\\nrail_path.to_excel(os.path.join(data_dir, distance_dir_year, \\\"rail_path_length.xlsx\\\"))\";\n",
       "                var nbb_cells = Jupyter.notebook.get_cells();\n",
       "                for (var i = 0; i < nbb_cells.length; ++i) {\n",
       "                    if (nbb_cells[i].input_prompt_number == nbb_cell_id) {\n",
       "                        if (nbb_cells[i].get_text() == nbb_unformatted_code) {\n",
       "                             nbb_cells[i].set_text(nbb_formatted_code);\n",
       "                        }\n",
       "                        break;\n",
       "                    }\n",
       "                }\n",
       "            }, 500);\n",
       "            "
      ],
      "text/plain": [
       "<IPython.core.display.Javascript object>"
      ]
     },
     "metadata": {},
     "output_type": "display_data"
    }
   ],
   "source": [
    "road_path.to_excel(os.path.join(data_dir, distance_dir_year, \"road_path_length.xlsx\"))\n",
    "rail_path.to_excel(os.path.join(data_dir, distance_dir_year, \"rail_path_length.xlsx\"))"
   ]
  },
  {
   "cell_type": "markdown",
   "metadata": {},
   "source": [
    "## 煤炭交流矩阵"
   ]
  },
  {
   "cell_type": "code",
   "execution_count": 21,
   "metadata": {},
   "outputs": [
    {
     "data": {
      "application/javascript": [
       "\n",
       "            setTimeout(function() {\n",
       "                var nbb_cell_id = 21;\n",
       "                var nbb_unformatted_code = \"coal_transport_mat = pd.read_excel(\\n    os.path.join(data_dir, distance_dir_year, \\\"coal_transport_mat2010.xlsx\\\")\\n)\";\n",
       "                var nbb_formatted_code = \"coal_transport_mat = pd.read_excel(\\n    os.path.join(data_dir, distance_dir_year, \\\"coal_transport_mat2010.xlsx\\\")\\n)\";\n",
       "                var nbb_cells = Jupyter.notebook.get_cells();\n",
       "                for (var i = 0; i < nbb_cells.length; ++i) {\n",
       "                    if (nbb_cells[i].input_prompt_number == nbb_cell_id) {\n",
       "                        if (nbb_cells[i].get_text() == nbb_unformatted_code) {\n",
       "                             nbb_cells[i].set_text(nbb_formatted_code);\n",
       "                        }\n",
       "                        break;\n",
       "                    }\n",
       "                }\n",
       "            }, 500);\n",
       "            "
      ],
      "text/plain": [
       "<IPython.core.display.Javascript object>"
      ]
     },
     "metadata": {},
     "output_type": "display_data"
    }
   ],
   "source": [
    "coal_transport_mat = pd.read_excel(\n",
    "    os.path.join(data_dir, distance_dir_year, \"coal_transport_mat2010.xlsx\")\n",
    ")"
   ]
  },
  {
   "cell_type": "code",
   "execution_count": 22,
   "metadata": {},
   "outputs": [
    {
     "data": {
      "text/html": [
       "<div>\n",
       "<style scoped>\n",
       "    .dataframe tbody tr th:only-of-type {\n",
       "        vertical-align: middle;\n",
       "    }\n",
       "\n",
       "    .dataframe tbody tr th {\n",
       "        vertical-align: top;\n",
       "    }\n",
       "\n",
       "    .dataframe thead th {\n",
       "        text-align: right;\n",
       "    }\n",
       "</style>\n",
       "<table border=\"1\" class=\"dataframe\">\n",
       "  <thead>\n",
       "    <tr style=\"text-align: right;\">\n",
       "      <th></th>\n",
       "      <th>到达\\r\\n发送</th>\n",
       "      <th>北京</th>\n",
       "      <th>天津</th>\n",
       "      <th>河北</th>\n",
       "      <th>山西</th>\n",
       "      <th>内蒙古</th>\n",
       "      <th>辽宁</th>\n",
       "      <th>吉林</th>\n",
       "      <th>黑龙江</th>\n",
       "      <th>上海</th>\n",
       "      <th>...</th>\n",
       "      <th>四川</th>\n",
       "      <th>贵州</th>\n",
       "      <th>云南</th>\n",
       "      <th>西藏</th>\n",
       "      <th>陕西</th>\n",
       "      <th>甘肃</th>\n",
       "      <th>青海</th>\n",
       "      <th>宁夏</th>\n",
       "      <th>新疆</th>\n",
       "      <th>合计</th>\n",
       "    </tr>\n",
       "  </thead>\n",
       "  <tbody>\n",
       "    <tr>\n",
       "      <th>1</th>\n",
       "      <td>北京</td>\n",
       "      <td>2.0</td>\n",
       "      <td>173.0</td>\n",
       "      <td>160.0</td>\n",
       "      <td>0.0</td>\n",
       "      <td>0.0</td>\n",
       "      <td>52.0</td>\n",
       "      <td>3.0</td>\n",
       "      <td>0.0</td>\n",
       "      <td>0.0</td>\n",
       "      <td>...</td>\n",
       "      <td>0.0</td>\n",
       "      <td>0.0</td>\n",
       "      <td>0.0</td>\n",
       "      <td>0.0</td>\n",
       "      <td>0.0</td>\n",
       "      <td>0.0</td>\n",
       "      <td>0.0</td>\n",
       "      <td>0.0</td>\n",
       "      <td>0.0</td>\n",
       "      <td>436.0</td>\n",
       "    </tr>\n",
       "    <tr>\n",
       "      <th>2</th>\n",
       "      <td>天津</td>\n",
       "      <td>0.0</td>\n",
       "      <td>2582.0</td>\n",
       "      <td>17.0</td>\n",
       "      <td>0.0</td>\n",
       "      <td>0.0</td>\n",
       "      <td>0.0</td>\n",
       "      <td>0.0</td>\n",
       "      <td>0.0</td>\n",
       "      <td>0.0</td>\n",
       "      <td>...</td>\n",
       "      <td>0.0</td>\n",
       "      <td>0.0</td>\n",
       "      <td>0.0</td>\n",
       "      <td>0.0</td>\n",
       "      <td>0.0</td>\n",
       "      <td>0.0</td>\n",
       "      <td>0.0</td>\n",
       "      <td>0.0</td>\n",
       "      <td>0.0</td>\n",
       "      <td>2599.0</td>\n",
       "    </tr>\n",
       "    <tr>\n",
       "      <th>3</th>\n",
       "      <td>河北</td>\n",
       "      <td>370.0</td>\n",
       "      <td>2066.0</td>\n",
       "      <td>3786.0</td>\n",
       "      <td>19.0</td>\n",
       "      <td>24.0</td>\n",
       "      <td>197.0</td>\n",
       "      <td>4.0</td>\n",
       "      <td>0.0</td>\n",
       "      <td>0.0</td>\n",
       "      <td>...</td>\n",
       "      <td>0.0</td>\n",
       "      <td>0.0</td>\n",
       "      <td>0.0</td>\n",
       "      <td>0.0</td>\n",
       "      <td>0.0</td>\n",
       "      <td>0.0</td>\n",
       "      <td>0.0</td>\n",
       "      <td>0.0</td>\n",
       "      <td>0.0</td>\n",
       "      <td>7477.0</td>\n",
       "    </tr>\n",
       "    <tr>\n",
       "      <th>4</th>\n",
       "      <td>山西</td>\n",
       "      <td>833.0</td>\n",
       "      <td>2297.0</td>\n",
       "      <td>28152.0</td>\n",
       "      <td>3347.0</td>\n",
       "      <td>110.0</td>\n",
       "      <td>1271.0</td>\n",
       "      <td>28.0</td>\n",
       "      <td>19.0</td>\n",
       "      <td>15.0</td>\n",
       "      <td>...</td>\n",
       "      <td>0.0</td>\n",
       "      <td>0.0</td>\n",
       "      <td>0.0</td>\n",
       "      <td>0.0</td>\n",
       "      <td>33.0</td>\n",
       "      <td>1.0</td>\n",
       "      <td>0.0</td>\n",
       "      <td>0.0</td>\n",
       "      <td>94.0</td>\n",
       "      <td>52340.0</td>\n",
       "    </tr>\n",
       "    <tr>\n",
       "      <th>5</th>\n",
       "      <td>内蒙古</td>\n",
       "      <td>285.0</td>\n",
       "      <td>549.0</td>\n",
       "      <td>10023.0</td>\n",
       "      <td>0.0</td>\n",
       "      <td>5560.0</td>\n",
       "      <td>6486.0</td>\n",
       "      <td>2786.0</td>\n",
       "      <td>2426.0</td>\n",
       "      <td>0.0</td>\n",
       "      <td>...</td>\n",
       "      <td>0.0</td>\n",
       "      <td>0.0</td>\n",
       "      <td>0.0</td>\n",
       "      <td>0.0</td>\n",
       "      <td>0.0</td>\n",
       "      <td>79.0</td>\n",
       "      <td>0.0</td>\n",
       "      <td>108.0</td>\n",
       "      <td>0.0</td>\n",
       "      <td>28349.0</td>\n",
       "    </tr>\n",
       "  </tbody>\n",
       "</table>\n",
       "<p>5 rows × 33 columns</p>\n",
       "</div>"
      ],
      "text/plain": [
       "  到达\\r\\n发送     北京      天津       河北      山西     内蒙古      辽宁      吉林     黑龙江  \\\n",
       "1       北京    2.0   173.0    160.0     0.0     0.0    52.0     3.0     0.0   \n",
       "2       天津    0.0  2582.0     17.0     0.0     0.0     0.0     0.0     0.0   \n",
       "3       河北  370.0  2066.0   3786.0    19.0    24.0   197.0     4.0     0.0   \n",
       "4       山西  833.0  2297.0  28152.0  3347.0   110.0  1271.0    28.0    19.0   \n",
       "5      内蒙古  285.0   549.0  10023.0     0.0  5560.0  6486.0  2786.0  2426.0   \n",
       "\n",
       "     上海  ...   四川   贵州   云南   西藏    陕西    甘肃   青海     宁夏    新疆       合计  \n",
       "1   0.0  ...  0.0  0.0  0.0  0.0   0.0   0.0  0.0    0.0   0.0    436.0  \n",
       "2   0.0  ...  0.0  0.0  0.0  0.0   0.0   0.0  0.0    0.0   0.0   2599.0  \n",
       "3   0.0  ...  0.0  0.0  0.0  0.0   0.0   0.0  0.0    0.0   0.0   7477.0  \n",
       "4  15.0  ...  0.0  0.0  0.0  0.0  33.0   1.0  0.0    0.0  94.0  52340.0  \n",
       "5   0.0  ...  0.0  0.0  0.0  0.0   0.0  79.0  0.0  108.0   0.0  28349.0  \n",
       "\n",
       "[5 rows x 33 columns]"
      ]
     },
     "execution_count": 22,
     "metadata": {},
     "output_type": "execute_result"
    },
    {
     "data": {
      "application/javascript": [
       "\n",
       "            setTimeout(function() {\n",
       "                var nbb_cell_id = 22;\n",
       "                var nbb_unformatted_code = \"coal_transport_mat_fillna = coal_transport_mat.fillna(value=0).iloc[1:, :]\\ncoal_transport_mat_fillna.head()\";\n",
       "                var nbb_formatted_code = \"coal_transport_mat_fillna = coal_transport_mat.fillna(value=0).iloc[1:, :]\\ncoal_transport_mat_fillna.head()\";\n",
       "                var nbb_cells = Jupyter.notebook.get_cells();\n",
       "                for (var i = 0; i < nbb_cells.length; ++i) {\n",
       "                    if (nbb_cells[i].input_prompt_number == nbb_cell_id) {\n",
       "                        if (nbb_cells[i].get_text() == nbb_unformatted_code) {\n",
       "                             nbb_cells[i].set_text(nbb_formatted_code);\n",
       "                        }\n",
       "                        break;\n",
       "                    }\n",
       "                }\n",
       "            }, 500);\n",
       "            "
      ],
      "text/plain": [
       "<IPython.core.display.Javascript object>"
      ]
     },
     "metadata": {},
     "output_type": "display_data"
    }
   ],
   "source": [
    "coal_transport_mat_fillna = coal_transport_mat.fillna(value=0).iloc[1:, :]\n",
    "coal_transport_mat_fillna.head()"
   ]
  },
  {
   "cell_type": "code",
   "execution_count": 23,
   "metadata": {},
   "outputs": [
    {
     "data": {
      "application/javascript": [
       "\n",
       "            setTimeout(function() {\n",
       "                var nbb_cell_id = 23;\n",
       "                var nbb_unformatted_code = \"from translate import Translator\\n\\ntranslator = Translator(from_lang=\\\"zh\\\", to_lang=\\\"en\\\")\";\n",
       "                var nbb_formatted_code = \"from translate import Translator\\n\\ntranslator = Translator(from_lang=\\\"zh\\\", to_lang=\\\"en\\\")\";\n",
       "                var nbb_cells = Jupyter.notebook.get_cells();\n",
       "                for (var i = 0; i < nbb_cells.length; ++i) {\n",
       "                    if (nbb_cells[i].input_prompt_number == nbb_cell_id) {\n",
       "                        if (nbb_cells[i].get_text() == nbb_unformatted_code) {\n",
       "                             nbb_cells[i].set_text(nbb_formatted_code);\n",
       "                        }\n",
       "                        break;\n",
       "                    }\n",
       "                }\n",
       "            }, 500);\n",
       "            "
      ],
      "text/plain": [
       "<IPython.core.display.Javascript object>"
      ]
     },
     "metadata": {},
     "output_type": "display_data"
    }
   ],
   "source": [
    "from translate import Translator\n",
    "\n",
    "translator = Translator(from_lang=\"zh\", to_lang=\"en\")"
   ]
  },
  {
   "cell_type": "code",
   "execution_count": 24,
   "metadata": {},
   "outputs": [
    {
     "data": {
      "application/javascript": [
       "\n",
       "            setTimeout(function() {\n",
       "                var nbb_cell_id = 24;\n",
       "                var nbb_unformatted_code = \"coal_transport_mat_fillna[\\\"start_province\\\"] = coal_transport_mat_fillna[\\n    \\\"\\u5230\\u8fbe\\\\r\\\\n\\u53d1\\u9001\\\"\\n].apply(lambda x: translator.translate(x))\";\n",
       "                var nbb_formatted_code = \"coal_transport_mat_fillna[\\\"start_province\\\"] = coal_transport_mat_fillna[\\n    \\\"\\u5230\\u8fbe\\\\r\\\\n\\u53d1\\u9001\\\"\\n].apply(lambda x: translator.translate(x))\";\n",
       "                var nbb_cells = Jupyter.notebook.get_cells();\n",
       "                for (var i = 0; i < nbb_cells.length; ++i) {\n",
       "                    if (nbb_cells[i].input_prompt_number == nbb_cell_id) {\n",
       "                        if (nbb_cells[i].get_text() == nbb_unformatted_code) {\n",
       "                             nbb_cells[i].set_text(nbb_formatted_code);\n",
       "                        }\n",
       "                        break;\n",
       "                    }\n",
       "                }\n",
       "            }, 500);\n",
       "            "
      ],
      "text/plain": [
       "<IPython.core.display.Javascript object>"
      ]
     },
     "metadata": {},
     "output_type": "display_data"
    }
   ],
   "source": [
    "coal_transport_mat_fillna[\"start_province\"] = coal_transport_mat_fillna[\n",
    "    \"到达\\r\\n发送\"\n",
    "].apply(lambda x: translator.translate(x))"
   ]
  },
  {
   "cell_type": "code",
   "execution_count": 25,
   "metadata": {},
   "outputs": [
    {
     "data": {
      "application/javascript": [
       "\n",
       "            setTimeout(function() {\n",
       "                var nbb_cell_id = 25;\n",
       "                var nbb_unformatted_code = \"coal_transport_mat_SD = coal_transport_mat_fillna.sort_values(\\\"start_province\\\").loc[\\n    :, [\\\"start_province\\\", \\\"\\u5c71\\u4e1c\\\"]\\n]\\ncoal_transport_mat_SD.loc[7, \\\"start_province\\\"] = \\\"Jilin\\\"\";\n",
       "                var nbb_formatted_code = \"coal_transport_mat_SD = coal_transport_mat_fillna.sort_values(\\\"start_province\\\").loc[\\n    :, [\\\"start_province\\\", \\\"\\u5c71\\u4e1c\\\"]\\n]\\ncoal_transport_mat_SD.loc[7, \\\"start_province\\\"] = \\\"Jilin\\\"\";\n",
       "                var nbb_cells = Jupyter.notebook.get_cells();\n",
       "                for (var i = 0; i < nbb_cells.length; ++i) {\n",
       "                    if (nbb_cells[i].input_prompt_number == nbb_cell_id) {\n",
       "                        if (nbb_cells[i].get_text() == nbb_unformatted_code) {\n",
       "                             nbb_cells[i].set_text(nbb_formatted_code);\n",
       "                        }\n",
       "                        break;\n",
       "                    }\n",
       "                }\n",
       "            }, 500);\n",
       "            "
      ],
      "text/plain": [
       "<IPython.core.display.Javascript object>"
      ]
     },
     "metadata": {},
     "output_type": "display_data"
    }
   ],
   "source": [
    "coal_transport_mat_SD = coal_transport_mat_fillna.sort_values(\"start_province\").loc[\n",
    "    :, [\"start_province\", \"山东\"]\n",
    "]\n",
    "coal_transport_mat_SD.loc[7, \"start_province\"] = \"Jilin\""
   ]
  },
  {
   "cell_type": "code",
   "execution_count": 26,
   "metadata": {},
   "outputs": [
    {
     "data": {
      "application/javascript": [
       "\n",
       "            setTimeout(function() {\n",
       "                var nbb_cell_id = 26;\n",
       "                var nbb_unformatted_code = \"coal_transport_mat_SD_dict = {\\n    i: j\\n    for i, j in zip(\\n        coal_transport_mat_SD[\\\"start_province\\\"], coal_transport_mat_SD[\\\"\\u5c71\\u4e1c\\\"]\\n    )\\n}\";\n",
       "                var nbb_formatted_code = \"coal_transport_mat_SD_dict = {\\n    i: j\\n    for i, j in zip(\\n        coal_transport_mat_SD[\\\"start_province\\\"], coal_transport_mat_SD[\\\"\\u5c71\\u4e1c\\\"]\\n    )\\n}\";\n",
       "                var nbb_cells = Jupyter.notebook.get_cells();\n",
       "                for (var i = 0; i < nbb_cells.length; ++i) {\n",
       "                    if (nbb_cells[i].input_prompt_number == nbb_cell_id) {\n",
       "                        if (nbb_cells[i].get_text() == nbb_unformatted_code) {\n",
       "                             nbb_cells[i].set_text(nbb_formatted_code);\n",
       "                        }\n",
       "                        break;\n",
       "                    }\n",
       "                }\n",
       "            }, 500);\n",
       "            "
      ],
      "text/plain": [
       "<IPython.core.display.Javascript object>"
      ]
     },
     "metadata": {},
     "output_type": "display_data"
    }
   ],
   "source": [
    "coal_transport_mat_SD_dict = {\n",
    "    i: j\n",
    "    for i, j in zip(\n",
    "        coal_transport_mat_SD[\"start_province\"], coal_transport_mat_SD[\"山东\"]\n",
    "    )\n",
    "}"
   ]
  },
  {
   "cell_type": "code",
   "execution_count": 27,
   "metadata": {},
   "outputs": [
    {
     "data": {
      "text/plain": [
       "{'Anhui': 260.0,\n",
       " 'Beijing': 43.0,\n",
       " 'Chongqing': 0.0,\n",
       " 'Fujian': 0.0,\n",
       " 'Gansu': 66.0,\n",
       " 'Guangdong': 0.0,\n",
       " 'Guangxi': 0.0,\n",
       " 'Guizhou': 0.0,\n",
       " 'Hainan': 0.0,\n",
       " 'Hebei': 762.0,\n",
       " 'Heilongjiang': 0.0,\n",
       " 'Henan': 334.0,\n",
       " 'Hubei': 0.0,\n",
       " 'Hunan': 0.0,\n",
       " 'Inner Mongolia': 48.0,\n",
       " 'Jiangsu': 78.0,\n",
       " 'Jiangxi': 0.0,\n",
       " 'Jilin': 0.0,\n",
       " 'Liaoning': 0.0,\n",
       " 'Ningxia': 43.0,\n",
       " 'Qinghai': 9.0,\n",
       " 'Shaanxi': 791.0,\n",
       " 'Shandong': 2332.0,\n",
       " 'Shanghai': 0.0,\n",
       " 'Shanxi': 8203.0,\n",
       " 'Sichuan': 0.0,\n",
       " 'Tianjin': 0.0,\n",
       " 'Tibet': 0.0,\n",
       " 'Xinjiang': 0.0,\n",
       " 'Yunnan': 0.0,\n",
       " 'Zhejiang': 0.0}"
      ]
     },
     "execution_count": 27,
     "metadata": {},
     "output_type": "execute_result"
    },
    {
     "data": {
      "application/javascript": [
       "\n",
       "            setTimeout(function() {\n",
       "                var nbb_cell_id = 27;\n",
       "                var nbb_unformatted_code = \"coal_transport_mat_SD_dict\";\n",
       "                var nbb_formatted_code = \"coal_transport_mat_SD_dict\";\n",
       "                var nbb_cells = Jupyter.notebook.get_cells();\n",
       "                for (var i = 0; i < nbb_cells.length; ++i) {\n",
       "                    if (nbb_cells[i].input_prompt_number == nbb_cell_id) {\n",
       "                        if (nbb_cells[i].get_text() == nbb_unformatted_code) {\n",
       "                             nbb_cells[i].set_text(nbb_formatted_code);\n",
       "                        }\n",
       "                        break;\n",
       "                    }\n",
       "                }\n",
       "            }, 500);\n",
       "            "
      ],
      "text/plain": [
       "<IPython.core.display.Javascript object>"
      ]
     },
     "metadata": {},
     "output_type": "display_data"
    }
   ],
   "source": [
    "coal_transport_mat_SD_dict"
   ]
  },
  {
   "cell_type": "markdown",
   "metadata": {},
   "source": [
    "## 计算煤矿到电厂的煤炭运量"
   ]
  },
  {
   "cell_type": "code",
   "execution_count": 28,
   "metadata": {},
   "outputs": [
    {
     "data": {
      "text/html": [
       "<div>\n",
       "<style scoped>\n",
       "    .dataframe tbody tr th:only-of-type {\n",
       "        vertical-align: middle;\n",
       "    }\n",
       "\n",
       "    .dataframe tbody tr th {\n",
       "        vertical-align: top;\n",
       "    }\n",
       "\n",
       "    .dataframe thead th {\n",
       "        text-align: right;\n",
       "    }\n",
       "</style>\n",
       "<table border=\"1\" class=\"dataframe\">\n",
       "  <thead>\n",
       "    <tr style=\"text-align: right;\">\n",
       "      <th></th>\n",
       "      <th>Unnamed: 0</th>\n",
       "      <th>总序号</th>\n",
       "      <th>省序号</th>\n",
       "      <th>厂序号</th>\n",
       "      <th>省份</th>\n",
       "      <th>电厂</th>\n",
       "      <th>区划代码</th>\n",
       "      <th>地级市/自治州</th>\n",
       "      <th>发电类别</th>\n",
       "      <th>年末发电设备容量\\n（千瓦）</th>\n",
       "      <th>...</th>\n",
       "      <th>发电厂用电率\\n（%）</th>\n",
       "      <th>发电标准煤耗\\r\\n（克/千瓦时）</th>\n",
       "      <th>供电标准煤耗率\\n（克/千瓦时）</th>\n",
       "      <th>发电耗用原煤量\\n（吨）</th>\n",
       "      <th>longitude</th>\n",
       "      <th>latitude</th>\n",
       "      <th>geometry</th>\n",
       "      <th>intersection_point</th>\n",
       "      <th>length</th>\n",
       "      <th>node_id</th>\n",
       "    </tr>\n",
       "  </thead>\n",
       "  <tbody>\n",
       "    <tr>\n",
       "      <th>0</th>\n",
       "      <td>0</td>\n",
       "      <td>2537</td>\n",
       "      <td>15</td>\n",
       "      <td>3</td>\n",
       "      <td>山东省</td>\n",
       "      <td>菏泽发电厂#3對机</td>\n",
       "      <td>371700</td>\n",
       "      <td>菏泽市</td>\n",
       "      <td>NaN</td>\n",
       "      <td>600000.0</td>\n",
       "      <td>...</td>\n",
       "      <td>5.2</td>\n",
       "      <td>317.0</td>\n",
       "      <td>334.0</td>\n",
       "      <td>1506056.0</td>\n",
       "      <td>115.545693</td>\n",
       "      <td>35.253672</td>\n",
       "      <td>POINT (4274728.137388794 4757028.049643864)</td>\n",
       "      <td>POINT (4275429.892443932 4756319.090705633)</td>\n",
       "      <td>997.538437</td>\n",
       "      <td>119318</td>\n",
       "    </tr>\n",
       "    <tr>\n",
       "      <th>1</th>\n",
       "      <td>1</td>\n",
       "      <td>2548</td>\n",
       "      <td>15</td>\n",
       "      <td>14</td>\n",
       "      <td>山东省</td>\n",
       "      <td>菏泽发电厂1-2#</td>\n",
       "      <td>371700</td>\n",
       "      <td>菏泽市</td>\n",
       "      <td>NaN</td>\n",
       "      <td>250000.0</td>\n",
       "      <td>...</td>\n",
       "      <td>8.9</td>\n",
       "      <td>350.0</td>\n",
       "      <td>385.0</td>\n",
       "      <td>754032.0</td>\n",
       "      <td>115.545693</td>\n",
       "      <td>35.253672</td>\n",
       "      <td>POINT (4274728.137388794 4757028.049643864)</td>\n",
       "      <td>POINT (4275429.892443932 4756319.090705633)</td>\n",
       "      <td>997.538437</td>\n",
       "      <td>119318</td>\n",
       "    </tr>\n",
       "  </tbody>\n",
       "</table>\n",
       "<p>2 rows × 22 columns</p>\n",
       "</div>"
      ],
      "text/plain": [
       "   Unnamed: 0   总序号  省序号  厂序号   省份         电厂    区划代码 地级市/自治州  发电类别  \\\n",
       "0           0  2537   15    3  山东省  菏泽发电厂#3對机  371700     菏泽市   NaN   \n",
       "1           1  2548   15   14  山东省  菏泽发电厂1-2#  371700     菏泽市   NaN   \n",
       "\n",
       "   年末发电设备容量\\n（千瓦）  ...  发电厂用电率\\n（%）  发电标准煤耗\\r\\n（克/千瓦时）  供电标准煤耗率\\n（克/千瓦时）  \\\n",
       "0        600000.0  ...          5.2              317.0             334.0   \n",
       "1        250000.0  ...          8.9              350.0             385.0   \n",
       "\n",
       "   发电耗用原煤量\\n（吨）   longitude   latitude  \\\n",
       "0     1506056.0  115.545693  35.253672   \n",
       "1      754032.0  115.545693  35.253672   \n",
       "\n",
       "                                      geometry  \\\n",
       "0  POINT (4274728.137388794 4757028.049643864)   \n",
       "1  POINT (4274728.137388794 4757028.049643864)   \n",
       "\n",
       "                            intersection_point      length node_id  \n",
       "0  POINT (4275429.892443932 4756319.090705633)  997.538437  119318  \n",
       "1  POINT (4275429.892443932 4756319.090705633)  997.538437  119318  \n",
       "\n",
       "[2 rows x 22 columns]"
      ]
     },
     "execution_count": 28,
     "metadata": {},
     "output_type": "execute_result"
    },
    {
     "data": {
      "application/javascript": [
       "\n",
       "            setTimeout(function() {\n",
       "                var nbb_cell_id = 28;\n",
       "                var nbb_unformatted_code = \"power_data = pd.read_excel(\\n    os.path.join(data_dir, distance_dir_year, \\\"node_power_pair.xlsx\\\")\\n)\\npower_data.head(2)\";\n",
       "                var nbb_formatted_code = \"power_data = pd.read_excel(\\n    os.path.join(data_dir, distance_dir_year, \\\"node_power_pair.xlsx\\\")\\n)\\npower_data.head(2)\";\n",
       "                var nbb_cells = Jupyter.notebook.get_cells();\n",
       "                for (var i = 0; i < nbb_cells.length; ++i) {\n",
       "                    if (nbb_cells[i].input_prompt_number == nbb_cell_id) {\n",
       "                        if (nbb_cells[i].get_text() == nbb_unformatted_code) {\n",
       "                             nbb_cells[i].set_text(nbb_formatted_code);\n",
       "                        }\n",
       "                        break;\n",
       "                    }\n",
       "                }\n",
       "            }, 500);\n",
       "            "
      ],
      "text/plain": [
       "<IPython.core.display.Javascript object>"
      ]
     },
     "metadata": {},
     "output_type": "display_data"
    }
   ],
   "source": [
    "power_data = pd.read_excel(\n",
    "    os.path.join(data_dir, distance_dir_year, \"node_power_pair.xlsx\")\n",
    ")\n",
    "power_data.head(2)"
   ]
  },
  {
   "cell_type": "code",
   "execution_count": 29,
   "metadata": {},
   "outputs": [
    {
     "data": {
      "application/javascript": [
       "\n",
       "            setTimeout(function() {\n",
       "                var nbb_cell_id = 29;\n",
       "                var nbb_unformatted_code = \"mine_capacity2010 = \\\"coal_prod2010_SD.xlsx\\\"\\nmine_capacity2012 = \\\"node_mine_pair_withCapacity2.xlsx\\\"\\nmine_capacity2014 = \\\"coal_prod2014_SD.xlsx\\\"\";\n",
       "                var nbb_formatted_code = \"mine_capacity2010 = \\\"coal_prod2010_SD.xlsx\\\"\\nmine_capacity2012 = \\\"node_mine_pair_withCapacity2.xlsx\\\"\\nmine_capacity2014 = \\\"coal_prod2014_SD.xlsx\\\"\";\n",
       "                var nbb_cells = Jupyter.notebook.get_cells();\n",
       "                for (var i = 0; i < nbb_cells.length; ++i) {\n",
       "                    if (nbb_cells[i].input_prompt_number == nbb_cell_id) {\n",
       "                        if (nbb_cells[i].get_text() == nbb_unformatted_code) {\n",
       "                             nbb_cells[i].set_text(nbb_formatted_code);\n",
       "                        }\n",
       "                        break;\n",
       "                    }\n",
       "                }\n",
       "            }, 500);\n",
       "            "
      ],
      "text/plain": [
       "<IPython.core.display.Javascript object>"
      ]
     },
     "metadata": {},
     "output_type": "display_data"
    }
   ],
   "source": [
    "mine_capacity2010 = \"coal_prod2010_SD.xlsx\"\n",
    "mine_capacity2012 = \"node_mine_pair_withCapacity2.xlsx\"\n",
    "mine_capacity2014 = \"coal_prod2014_SD.xlsx\""
   ]
  },
  {
   "cell_type": "code",
   "execution_count": 30,
   "metadata": {},
   "outputs": [
    {
     "data": {
      "text/html": [
       "<div>\n",
       "<style scoped>\n",
       "    .dataframe tbody tr th:only-of-type {\n",
       "        vertical-align: middle;\n",
       "    }\n",
       "\n",
       "    .dataframe tbody tr th {\n",
       "        vertical-align: top;\n",
       "    }\n",
       "\n",
       "    .dataframe thead th {\n",
       "        text-align: right;\n",
       "    }\n",
       "</style>\n",
       "<table border=\"1\" class=\"dataframe\">\n",
       "  <thead>\n",
       "    <tr style=\"text-align: right;\">\n",
       "      <th></th>\n",
       "      <th>IDNum</th>\n",
       "      <th>Province</th>\n",
       "      <th>PrefMunCty</th>\n",
       "      <th>CntyDstCty</th>\n",
       "      <th>LatDD</th>\n",
       "      <th>LongDD</th>\n",
       "      <th>Rank</th>\n",
       "      <th>MineSize</th>\n",
       "      <th>MineName</th>\n",
       "      <th>Unnamed: 9</th>\n",
       "      <th>allocation</th>\n",
       "      <th>矿山容量（万吨）</th>\n",
       "      <th>10火力发电占比（全国平均）</th>\n",
       "      <th>Capacity</th>\n",
       "      <th>Unnamed: 14</th>\n",
       "      <th>Unnamed: 15</th>\n",
       "      <th>矿山每份销量（万吨）</th>\n",
       "      <th>Unnamed: 17</th>\n",
       "      <th>煤炭全国销量10/13</th>\n",
       "    </tr>\n",
       "  </thead>\n",
       "  <tbody>\n",
       "    <tr>\n",
       "      <th>0</th>\n",
       "      <td>1.0</td>\n",
       "      <td>Anhui Province</td>\n",
       "      <td>Suzhou City</td>\n",
       "      <td>Dangshan County</td>\n",
       "      <td>34.331641</td>\n",
       "      <td>116.482994</td>\n",
       "      <td>Bituminous</td>\n",
       "      <td>Large</td>\n",
       "      <td>Dang shan</td>\n",
       "      <td>NaN</td>\n",
       "      <td>10</td>\n",
       "      <td>364.965131</td>\n",
       "      <td>0.382138</td>\n",
       "      <td>139.467148</td>\n",
       "      <td>NaN</td>\n",
       "      <td>安徽省</td>\n",
       "      <td>42.2944</td>\n",
       "      <td>NaN</td>\n",
       "      <td>0.862917</td>\n",
       "    </tr>\n",
       "    <tr>\n",
       "      <th>1</th>\n",
       "      <td>2.0</td>\n",
       "      <td>Anhui Province</td>\n",
       "      <td>Suzhou City</td>\n",
       "      <td>Xiao County</td>\n",
       "      <td>34.250348</td>\n",
       "      <td>116.596540</td>\n",
       "      <td>Bituminous</td>\n",
       "      <td>Small</td>\n",
       "      <td>Zhang datun</td>\n",
       "      <td>NaN</td>\n",
       "      <td>1</td>\n",
       "      <td>36.496513</td>\n",
       "      <td>0.382138</td>\n",
       "      <td>13.946715</td>\n",
       "      <td>NaN</td>\n",
       "      <td>NaN</td>\n",
       "      <td>NaN</td>\n",
       "      <td>NaN</td>\n",
       "      <td>NaN</td>\n",
       "    </tr>\n",
       "    <tr>\n",
       "      <th>2</th>\n",
       "      <td>3.0</td>\n",
       "      <td>Anhui Province</td>\n",
       "      <td>Suzhou City</td>\n",
       "      <td>Xiao County</td>\n",
       "      <td>34.130176</td>\n",
       "      <td>116.787770</td>\n",
       "      <td>Bituminous</td>\n",
       "      <td>Medium</td>\n",
       "      <td>Tang miao</td>\n",
       "      <td>NaN</td>\n",
       "      <td>4</td>\n",
       "      <td>145.986052</td>\n",
       "      <td>0.382138</td>\n",
       "      <td>55.786859</td>\n",
       "      <td>NaN</td>\n",
       "      <td>NaN</td>\n",
       "      <td>NaN</td>\n",
       "      <td>NaN</td>\n",
       "      <td>NaN</td>\n",
       "    </tr>\n",
       "    <tr>\n",
       "      <th>3</th>\n",
       "      <td>4.0</td>\n",
       "      <td>Anhui Province</td>\n",
       "      <td>Huaibei City</td>\n",
       "      <td>NaN</td>\n",
       "      <td>34.023946</td>\n",
       "      <td>116.831329</td>\n",
       "      <td>Bituminous</td>\n",
       "      <td>Medium</td>\n",
       "      <td>Dai he</td>\n",
       "      <td>NaN</td>\n",
       "      <td>4</td>\n",
       "      <td>145.986052</td>\n",
       "      <td>0.382138</td>\n",
       "      <td>55.786859</td>\n",
       "      <td>NaN</td>\n",
       "      <td>NaN</td>\n",
       "      <td>NaN</td>\n",
       "      <td>NaN</td>\n",
       "      <td>NaN</td>\n",
       "    </tr>\n",
       "    <tr>\n",
       "      <th>4</th>\n",
       "      <td>5.0</td>\n",
       "      <td>Anhui Province</td>\n",
       "      <td>Huaibei City</td>\n",
       "      <td>NaN</td>\n",
       "      <td>34.061551</td>\n",
       "      <td>116.887518</td>\n",
       "      <td>Bituminous</td>\n",
       "      <td>Medium</td>\n",
       "      <td>Shuo li</td>\n",
       "      <td>NaN</td>\n",
       "      <td>4</td>\n",
       "      <td>145.986052</td>\n",
       "      <td>0.382138</td>\n",
       "      <td>55.786859</td>\n",
       "      <td>NaN</td>\n",
       "      <td>NaN</td>\n",
       "      <td>NaN</td>\n",
       "      <td>NaN</td>\n",
       "      <td>NaN</td>\n",
       "    </tr>\n",
       "  </tbody>\n",
       "</table>\n",
       "</div>"
      ],
      "text/plain": [
       "   IDNum        Province    PrefMunCty       CntyDstCty      LatDD  \\\n",
       "0    1.0  Anhui Province   Suzhou City  Dangshan County  34.331641   \n",
       "1    2.0  Anhui Province   Suzhou City      Xiao County  34.250348   \n",
       "2    3.0  Anhui Province   Suzhou City      Xiao County  34.130176   \n",
       "3    4.0  Anhui Province  Huaibei City              NaN  34.023946   \n",
       "4    5.0  Anhui Province  Huaibei City              NaN  34.061551   \n",
       "\n",
       "       LongDD        Rank MineSize     MineName  Unnamed: 9  allocation  \\\n",
       "0  116.482994  Bituminous    Large    Dang shan         NaN          10   \n",
       "1  116.596540  Bituminous    Small  Zhang datun         NaN           1   \n",
       "2  116.787770  Bituminous   Medium    Tang miao         NaN           4   \n",
       "3  116.831329  Bituminous   Medium       Dai he         NaN           4   \n",
       "4  116.887518  Bituminous   Medium      Shuo li         NaN           4   \n",
       "\n",
       "     矿山容量（万吨）  10火力发电占比（全国平均）    Capacity  Unnamed: 14 Unnamed: 15 矿山每份销量（万吨）  \\\n",
       "0  364.965131        0.382138  139.467148          NaN         安徽省    42.2944   \n",
       "1   36.496513        0.382138   13.946715          NaN         NaN        NaN   \n",
       "2  145.986052        0.382138   55.786859          NaN         NaN        NaN   \n",
       "3  145.986052        0.382138   55.786859          NaN         NaN        NaN   \n",
       "4  145.986052        0.382138   55.786859          NaN         NaN        NaN   \n",
       "\n",
       "   Unnamed: 17  煤炭全国销量10/13  \n",
       "0          NaN     0.862917  \n",
       "1          NaN          NaN  \n",
       "2          NaN          NaN  \n",
       "3          NaN          NaN  \n",
       "4          NaN          NaN  "
      ]
     },
     "execution_count": 30,
     "metadata": {},
     "output_type": "execute_result"
    },
    {
     "data": {
      "application/javascript": [
       "\n",
       "            setTimeout(function() {\n",
       "                var nbb_cell_id = 30;\n",
       "                var nbb_unformatted_code = \"mine_capacity = pd.read_excel(\\n    os.path.join(data_dir, distance_dir_year, mine_capacity2010)\\n)\\nmine_capacity.head()\";\n",
       "                var nbb_formatted_code = \"mine_capacity = pd.read_excel(\\n    os.path.join(data_dir, distance_dir_year, mine_capacity2010)\\n)\\nmine_capacity.head()\";\n",
       "                var nbb_cells = Jupyter.notebook.get_cells();\n",
       "                for (var i = 0; i < nbb_cells.length; ++i) {\n",
       "                    if (nbb_cells[i].input_prompt_number == nbb_cell_id) {\n",
       "                        if (nbb_cells[i].get_text() == nbb_unformatted_code) {\n",
       "                             nbb_cells[i].set_text(nbb_formatted_code);\n",
       "                        }\n",
       "                        break;\n",
       "                    }\n",
       "                }\n",
       "            }, 500);\n",
       "            "
      ],
      "text/plain": [
       "<IPython.core.display.Javascript object>"
      ]
     },
     "metadata": {},
     "output_type": "display_data"
    }
   ],
   "source": [
    "mine_capacity = pd.read_excel(\n",
    "    os.path.join(data_dir, distance_dir_year, mine_capacity2010)\n",
    ")\n",
    "mine_capacity.head()"
   ]
  },
  {
   "cell_type": "code",
   "execution_count": 31,
   "metadata": {},
   "outputs": [
    {
     "data": {
      "text/html": [
       "<div>\n",
       "<style scoped>\n",
       "    .dataframe tbody tr th:only-of-type {\n",
       "        vertical-align: middle;\n",
       "    }\n",
       "\n",
       "    .dataframe tbody tr th {\n",
       "        vertical-align: top;\n",
       "    }\n",
       "\n",
       "    .dataframe thead th {\n",
       "        text-align: right;\n",
       "    }\n",
       "</style>\n",
       "<table border=\"1\" class=\"dataframe\">\n",
       "  <thead>\n",
       "    <tr style=\"text-align: right;\">\n",
       "      <th></th>\n",
       "      <th>Unnamed: 0</th>\n",
       "      <th>IDNum</th>\n",
       "      <th>Province</th>\n",
       "      <th>PrefMunCty</th>\n",
       "      <th>CntyDstCty</th>\n",
       "      <th>LatDD</th>\n",
       "      <th>LongDD</th>\n",
       "      <th>Rank</th>\n",
       "      <th>MineSize</th>\n",
       "      <th>MineName</th>\n",
       "      <th>geometry</th>\n",
       "      <th>index_right</th>\n",
       "      <th>pop_est</th>\n",
       "      <th>continent</th>\n",
       "      <th>name</th>\n",
       "      <th>iso_a3</th>\n",
       "      <th>gdp_md_est</th>\n",
       "      <th>intersection_point</th>\n",
       "      <th>length</th>\n",
       "      <th>node_id</th>\n",
       "    </tr>\n",
       "  </thead>\n",
       "  <tbody>\n",
       "    <tr>\n",
       "      <th>0</th>\n",
       "      <td>0</td>\n",
       "      <td>1.0</td>\n",
       "      <td>Anhui Province</td>\n",
       "      <td>Suzhou City</td>\n",
       "      <td>Dangshan County</td>\n",
       "      <td>34.331641</td>\n",
       "      <td>116.482994</td>\n",
       "      <td>Bituminous</td>\n",
       "      <td>Large</td>\n",
       "      <td>Dang shan</td>\n",
       "      <td>POINT (4420001.203680727 4693619.627322398)</td>\n",
       "      <td>139</td>\n",
       "      <td>1379302771</td>\n",
       "      <td>Asia</td>\n",
       "      <td>China</td>\n",
       "      <td>CHN</td>\n",
       "      <td>21140000</td>\n",
       "      <td>POINT (4417515.434006381 4700653.08348814)</td>\n",
       "      <td>7459.796010</td>\n",
       "      <td>116330</td>\n",
       "    </tr>\n",
       "    <tr>\n",
       "      <th>1</th>\n",
       "      <td>1</td>\n",
       "      <td>2.0</td>\n",
       "      <td>Anhui Province</td>\n",
       "      <td>Suzhou City</td>\n",
       "      <td>Xiao County</td>\n",
       "      <td>34.250348</td>\n",
       "      <td>116.596540</td>\n",
       "      <td>Bituminous</td>\n",
       "      <td>Small</td>\n",
       "      <td>Zhang datun</td>\n",
       "      <td>POINT (4436002.57311189 4689567.753009823)</td>\n",
       "      <td>139</td>\n",
       "      <td>1379302771</td>\n",
       "      <td>Asia</td>\n",
       "      <td>China</td>\n",
       "      <td>CHN</td>\n",
       "      <td>21140000</td>\n",
       "      <td>POINT (4427241.652733594 4677623.711441736)</td>\n",
       "      <td>14812.624847</td>\n",
       "      <td>116331</td>\n",
       "    </tr>\n",
       "    <tr>\n",
       "      <th>2</th>\n",
       "      <td>2</td>\n",
       "      <td>3.0</td>\n",
       "      <td>Anhui Province</td>\n",
       "      <td>Suzhou City</td>\n",
       "      <td>Xiao County</td>\n",
       "      <td>34.130176</td>\n",
       "      <td>116.787770</td>\n",
       "      <td>Bituminous</td>\n",
       "      <td>Medium</td>\n",
       "      <td>Tang miao</td>\n",
       "      <td>POINT (4462033.413644917 4684761.124856576)</td>\n",
       "      <td>139</td>\n",
       "      <td>1379302771</td>\n",
       "      <td>Asia</td>\n",
       "      <td>China</td>\n",
       "      <td>CHN</td>\n",
       "      <td>21140000</td>\n",
       "      <td>POINT (4473556.785094056 4681011.935077398)</td>\n",
       "      <td>12117.941804</td>\n",
       "      <td>116332</td>\n",
       "    </tr>\n",
       "  </tbody>\n",
       "</table>\n",
       "</div>"
      ],
      "text/plain": [
       "   Unnamed: 0  IDNum        Province   PrefMunCty       CntyDstCty      LatDD  \\\n",
       "0           0    1.0  Anhui Province  Suzhou City  Dangshan County  34.331641   \n",
       "1           1    2.0  Anhui Province  Suzhou City      Xiao County  34.250348   \n",
       "2           2    3.0  Anhui Province  Suzhou City      Xiao County  34.130176   \n",
       "\n",
       "       LongDD        Rank MineSize     MineName  \\\n",
       "0  116.482994  Bituminous    Large    Dang shan   \n",
       "1  116.596540  Bituminous    Small  Zhang datun   \n",
       "2  116.787770  Bituminous   Medium    Tang miao   \n",
       "\n",
       "                                      geometry  index_right     pop_est  \\\n",
       "0  POINT (4420001.203680727 4693619.627322398)          139  1379302771   \n",
       "1   POINT (4436002.57311189 4689567.753009823)          139  1379302771   \n",
       "2  POINT (4462033.413644917 4684761.124856576)          139  1379302771   \n",
       "\n",
       "  continent   name iso_a3  gdp_md_est  \\\n",
       "0      Asia  China    CHN    21140000   \n",
       "1      Asia  China    CHN    21140000   \n",
       "2      Asia  China    CHN    21140000   \n",
       "\n",
       "                            intersection_point        length  node_id  \n",
       "0   POINT (4417515.434006381 4700653.08348814)   7459.796010   116330  \n",
       "1  POINT (4427241.652733594 4677623.711441736)  14812.624847   116331  \n",
       "2  POINT (4473556.785094056 4681011.935077398)  12117.941804   116332  "
      ]
     },
     "execution_count": 31,
     "metadata": {},
     "output_type": "execute_result"
    },
    {
     "data": {
      "application/javascript": [
       "\n",
       "            setTimeout(function() {\n",
       "                var nbb_cell_id = 31;\n",
       "                var nbb_unformatted_code = \"mine_data = pd.read_excel(\\n    os.path.join(data_dir, distance_dir_year, \\\"node_mine_pair.xlsx\\\")\\n)\\nmine_data.head(3)\";\n",
       "                var nbb_formatted_code = \"mine_data = pd.read_excel(\\n    os.path.join(data_dir, distance_dir_year, \\\"node_mine_pair.xlsx\\\")\\n)\\nmine_data.head(3)\";\n",
       "                var nbb_cells = Jupyter.notebook.get_cells();\n",
       "                for (var i = 0; i < nbb_cells.length; ++i) {\n",
       "                    if (nbb_cells[i].input_prompt_number == nbb_cell_id) {\n",
       "                        if (nbb_cells[i].get_text() == nbb_unformatted_code) {\n",
       "                             nbb_cells[i].set_text(nbb_formatted_code);\n",
       "                        }\n",
       "                        break;\n",
       "                    }\n",
       "                }\n",
       "            }, 500);\n",
       "            "
      ],
      "text/plain": [
       "<IPython.core.display.Javascript object>"
      ]
     },
     "metadata": {},
     "output_type": "display_data"
    }
   ],
   "source": [
    "mine_data = pd.read_excel(\n",
    "    os.path.join(data_dir, distance_dir_year, \"node_mine_pair.xlsx\")\n",
    ")\n",
    "mine_data.head(3)"
   ]
  },
  {
   "cell_type": "code",
   "execution_count": 32,
   "metadata": {},
   "outputs": [
    {
     "data": {
      "text/plain": [
       "2443"
      ]
     },
     "execution_count": 32,
     "metadata": {},
     "output_type": "execute_result"
    },
    {
     "data": {
      "application/javascript": [
       "\n",
       "            setTimeout(function() {\n",
       "                var nbb_cell_id = 32;\n",
       "                var nbb_unformatted_code = \"mine_withCapacity = pd.merge(mine_data, mine_capacity, how=\\\"outer\\\")\\nmine_withCapacity_sorted = mine_withCapacity.sort_values(\\\"node_id\\\")\\nlen(mine_withCapacity)\";\n",
       "                var nbb_formatted_code = \"mine_withCapacity = pd.merge(mine_data, mine_capacity, how=\\\"outer\\\")\\nmine_withCapacity_sorted = mine_withCapacity.sort_values(\\\"node_id\\\")\\nlen(mine_withCapacity)\";\n",
       "                var nbb_cells = Jupyter.notebook.get_cells();\n",
       "                for (var i = 0; i < nbb_cells.length; ++i) {\n",
       "                    if (nbb_cells[i].input_prompt_number == nbb_cell_id) {\n",
       "                        if (nbb_cells[i].get_text() == nbb_unformatted_code) {\n",
       "                             nbb_cells[i].set_text(nbb_formatted_code);\n",
       "                        }\n",
       "                        break;\n",
       "                    }\n",
       "                }\n",
       "            }, 500);\n",
       "            "
      ],
      "text/plain": [
       "<IPython.core.display.Javascript object>"
      ]
     },
     "metadata": {},
     "output_type": "display_data"
    }
   ],
   "source": [
    "mine_withCapacity = pd.merge(mine_data, mine_capacity, how=\"outer\")\n",
    "mine_withCapacity_sorted = mine_withCapacity.sort_values(\"node_id\")\n",
    "len(mine_withCapacity)"
   ]
  },
  {
   "cell_type": "code",
   "execution_count": 33,
   "metadata": {},
   "outputs": [
    {
     "data": {
      "text/html": [
       "<div>\n",
       "<style scoped>\n",
       "    .dataframe tbody tr th:only-of-type {\n",
       "        vertical-align: middle;\n",
       "    }\n",
       "\n",
       "    .dataframe tbody tr th {\n",
       "        vertical-align: top;\n",
       "    }\n",
       "\n",
       "    .dataframe thead th {\n",
       "        text-align: right;\n",
       "    }\n",
       "</style>\n",
       "<table border=\"1\" class=\"dataframe\">\n",
       "  <thead>\n",
       "    <tr style=\"text-align: right;\">\n",
       "      <th></th>\n",
       "      <th>Unnamed: 0</th>\n",
       "      <th>IDNum</th>\n",
       "      <th>Province</th>\n",
       "      <th>PrefMunCty</th>\n",
       "      <th>CntyDstCty</th>\n",
       "      <th>LatDD</th>\n",
       "      <th>LongDD</th>\n",
       "      <th>Rank</th>\n",
       "      <th>MineSize</th>\n",
       "      <th>MineName</th>\n",
       "      <th>...</th>\n",
       "      <th>Unnamed: 9</th>\n",
       "      <th>allocation</th>\n",
       "      <th>矿山容量（万吨）</th>\n",
       "      <th>10火力发电占比（全国平均）</th>\n",
       "      <th>Capacity</th>\n",
       "      <th>Unnamed: 14</th>\n",
       "      <th>Unnamed: 15</th>\n",
       "      <th>矿山每份销量（万吨）</th>\n",
       "      <th>Unnamed: 17</th>\n",
       "      <th>煤炭全国销量10/13</th>\n",
       "    </tr>\n",
       "  </thead>\n",
       "  <tbody>\n",
       "    <tr>\n",
       "      <th>0</th>\n",
       "      <td>0.0</td>\n",
       "      <td>1.0</td>\n",
       "      <td>Anhui Province</td>\n",
       "      <td>Suzhou City</td>\n",
       "      <td>Dangshan County</td>\n",
       "      <td>34.331641</td>\n",
       "      <td>116.482994</td>\n",
       "      <td>Bituminous</td>\n",
       "      <td>Large</td>\n",
       "      <td>Dang shan</td>\n",
       "      <td>...</td>\n",
       "      <td>NaN</td>\n",
       "      <td>10.0</td>\n",
       "      <td>364.965131</td>\n",
       "      <td>0.382138</td>\n",
       "      <td>139.467148</td>\n",
       "      <td>NaN</td>\n",
       "      <td>安徽省</td>\n",
       "      <td>42.2944</td>\n",
       "      <td>NaN</td>\n",
       "      <td>0.862917</td>\n",
       "    </tr>\n",
       "    <tr>\n",
       "      <th>1</th>\n",
       "      <td>1.0</td>\n",
       "      <td>2.0</td>\n",
       "      <td>Anhui Province</td>\n",
       "      <td>Suzhou City</td>\n",
       "      <td>Xiao County</td>\n",
       "      <td>34.250348</td>\n",
       "      <td>116.596540</td>\n",
       "      <td>Bituminous</td>\n",
       "      <td>Small</td>\n",
       "      <td>Zhang datun</td>\n",
       "      <td>...</td>\n",
       "      <td>NaN</td>\n",
       "      <td>1.0</td>\n",
       "      <td>36.496513</td>\n",
       "      <td>0.382138</td>\n",
       "      <td>13.946715</td>\n",
       "      <td>NaN</td>\n",
       "      <td>NaN</td>\n",
       "      <td>NaN</td>\n",
       "      <td>NaN</td>\n",
       "      <td>NaN</td>\n",
       "    </tr>\n",
       "    <tr>\n",
       "      <th>2</th>\n",
       "      <td>2.0</td>\n",
       "      <td>3.0</td>\n",
       "      <td>Anhui Province</td>\n",
       "      <td>Suzhou City</td>\n",
       "      <td>Xiao County</td>\n",
       "      <td>34.130176</td>\n",
       "      <td>116.787770</td>\n",
       "      <td>Bituminous</td>\n",
       "      <td>Medium</td>\n",
       "      <td>Tang miao</td>\n",
       "      <td>...</td>\n",
       "      <td>NaN</td>\n",
       "      <td>4.0</td>\n",
       "      <td>145.986052</td>\n",
       "      <td>0.382138</td>\n",
       "      <td>55.786859</td>\n",
       "      <td>NaN</td>\n",
       "      <td>NaN</td>\n",
       "      <td>NaN</td>\n",
       "      <td>NaN</td>\n",
       "      <td>NaN</td>\n",
       "    </tr>\n",
       "    <tr>\n",
       "      <th>3</th>\n",
       "      <td>3.0</td>\n",
       "      <td>4.0</td>\n",
       "      <td>Anhui Province</td>\n",
       "      <td>Huaibei City</td>\n",
       "      <td>NaN</td>\n",
       "      <td>34.023946</td>\n",
       "      <td>116.831329</td>\n",
       "      <td>Bituminous</td>\n",
       "      <td>Medium</td>\n",
       "      <td>Dai he</td>\n",
       "      <td>...</td>\n",
       "      <td>NaN</td>\n",
       "      <td>4.0</td>\n",
       "      <td>145.986052</td>\n",
       "      <td>0.382138</td>\n",
       "      <td>55.786859</td>\n",
       "      <td>NaN</td>\n",
       "      <td>NaN</td>\n",
       "      <td>NaN</td>\n",
       "      <td>NaN</td>\n",
       "      <td>NaN</td>\n",
       "    </tr>\n",
       "    <tr>\n",
       "      <th>4</th>\n",
       "      <td>4.0</td>\n",
       "      <td>5.0</td>\n",
       "      <td>Anhui Province</td>\n",
       "      <td>Huaibei City</td>\n",
       "      <td>NaN</td>\n",
       "      <td>34.061551</td>\n",
       "      <td>116.887518</td>\n",
       "      <td>Bituminous</td>\n",
       "      <td>Medium</td>\n",
       "      <td>Shuo li</td>\n",
       "      <td>...</td>\n",
       "      <td>NaN</td>\n",
       "      <td>4.0</td>\n",
       "      <td>145.986052</td>\n",
       "      <td>0.382138</td>\n",
       "      <td>55.786859</td>\n",
       "      <td>NaN</td>\n",
       "      <td>NaN</td>\n",
       "      <td>NaN</td>\n",
       "      <td>NaN</td>\n",
       "      <td>NaN</td>\n",
       "    </tr>\n",
       "    <tr>\n",
       "      <th>...</th>\n",
       "      <td>...</td>\n",
       "      <td>...</td>\n",
       "      <td>...</td>\n",
       "      <td>...</td>\n",
       "      <td>...</td>\n",
       "      <td>...</td>\n",
       "      <td>...</td>\n",
       "      <td>...</td>\n",
       "      <td>...</td>\n",
       "      <td>...</td>\n",
       "      <td>...</td>\n",
       "      <td>...</td>\n",
       "      <td>...</td>\n",
       "      <td>...</td>\n",
       "      <td>...</td>\n",
       "      <td>...</td>\n",
       "      <td>...</td>\n",
       "      <td>...</td>\n",
       "      <td>...</td>\n",
       "      <td>...</td>\n",
       "      <td>...</td>\n",
       "    </tr>\n",
       "    <tr>\n",
       "      <th>2438</th>\n",
       "      <td>NaN</td>\n",
       "      <td>35.0</td>\n",
       "      <td>Xizang (Tibet) Autonomous Region</td>\n",
       "      <td>Chamdo Prefecture</td>\n",
       "      <td>Dingqing (Dengqen) County</td>\n",
       "      <td>32.293162</td>\n",
       "      <td>94.897254</td>\n",
       "      <td>Anthracite</td>\n",
       "      <td>Small</td>\n",
       "      <td>Zi jia pu</td>\n",
       "      <td>...</td>\n",
       "      <td>NaN</td>\n",
       "      <td>1.0</td>\n",
       "      <td>36.496513</td>\n",
       "      <td>0.382138</td>\n",
       "      <td>13.946715</td>\n",
       "      <td>NaN</td>\n",
       "      <td>NaN</td>\n",
       "      <td>NaN</td>\n",
       "      <td>NaN</td>\n",
       "      <td>NaN</td>\n",
       "    </tr>\n",
       "    <tr>\n",
       "      <th>2439</th>\n",
       "      <td>NaN</td>\n",
       "      <td>36.0</td>\n",
       "      <td>Xizang (Tibet) Autonomous Region</td>\n",
       "      <td>Ngari Prefecture</td>\n",
       "      <td>Ga'er (Gar) County</td>\n",
       "      <td>31.370120</td>\n",
       "      <td>80.889489</td>\n",
       "      <td>Bituminous</td>\n",
       "      <td>Small</td>\n",
       "      <td>NaN</td>\n",
       "      <td>...</td>\n",
       "      <td>NaN</td>\n",
       "      <td>1.0</td>\n",
       "      <td>36.496513</td>\n",
       "      <td>0.382138</td>\n",
       "      <td>13.946715</td>\n",
       "      <td>NaN</td>\n",
       "      <td>NaN</td>\n",
       "      <td>NaN</td>\n",
       "      <td>NaN</td>\n",
       "      <td>NaN</td>\n",
       "    </tr>\n",
       "    <tr>\n",
       "      <th>2440</th>\n",
       "      <td>NaN</td>\n",
       "      <td>54.0</td>\n",
       "      <td>Xizang (Tibet) Autonomous Region</td>\n",
       "      <td>Naqu Prefecture</td>\n",
       "      <td>Naqu County</td>\n",
       "      <td>31.385650</td>\n",
       "      <td>92.944476</td>\n",
       "      <td>Lignite</td>\n",
       "      <td>Small</td>\n",
       "      <td>Se xiong</td>\n",
       "      <td>...</td>\n",
       "      <td>NaN</td>\n",
       "      <td>1.0</td>\n",
       "      <td>36.496513</td>\n",
       "      <td>0.382138</td>\n",
       "      <td>13.946715</td>\n",
       "      <td>NaN</td>\n",
       "      <td>NaN</td>\n",
       "      <td>NaN</td>\n",
       "      <td>NaN</td>\n",
       "      <td>NaN</td>\n",
       "    </tr>\n",
       "    <tr>\n",
       "      <th>2441</th>\n",
       "      <td>NaN</td>\n",
       "      <td>59.0</td>\n",
       "      <td>Xizang (Tibet) Autonomous Region</td>\n",
       "      <td>Chamdo Prefecture</td>\n",
       "      <td>Leiwuqi (Riwoqe ) County</td>\n",
       "      <td>31.424566</td>\n",
       "      <td>96.754160</td>\n",
       "      <td>Bituminous</td>\n",
       "      <td>Small</td>\n",
       "      <td>Ren qing</td>\n",
       "      <td>...</td>\n",
       "      <td>NaN</td>\n",
       "      <td>1.0</td>\n",
       "      <td>36.496513</td>\n",
       "      <td>0.382138</td>\n",
       "      <td>13.946715</td>\n",
       "      <td>NaN</td>\n",
       "      <td>NaN</td>\n",
       "      <td>NaN</td>\n",
       "      <td>NaN</td>\n",
       "      <td>NaN</td>\n",
       "    </tr>\n",
       "    <tr>\n",
       "      <th>2442</th>\n",
       "      <td>NaN</td>\n",
       "      <td>60.0</td>\n",
       "      <td>Xizang (Tibet) Autonomous Region</td>\n",
       "      <td>Chamdo Prefecture</td>\n",
       "      <td>Leiwuqi (Riwoqe ) County</td>\n",
       "      <td>31.396922</td>\n",
       "      <td>96.692869</td>\n",
       "      <td>Anthracite</td>\n",
       "      <td>Small</td>\n",
       "      <td>Ma cha la</td>\n",
       "      <td>...</td>\n",
       "      <td>NaN</td>\n",
       "      <td>1.0</td>\n",
       "      <td>36.496513</td>\n",
       "      <td>0.382138</td>\n",
       "      <td>13.946715</td>\n",
       "      <td>NaN</td>\n",
       "      <td>NaN</td>\n",
       "      <td>NaN</td>\n",
       "      <td>NaN</td>\n",
       "      <td>NaN</td>\n",
       "    </tr>\n",
       "  </tbody>\n",
       "</table>\n",
       "<p>2443 rows × 30 columns</p>\n",
       "</div>"
      ],
      "text/plain": [
       "      Unnamed: 0  IDNum                          Province         PrefMunCty  \\\n",
       "0            0.0    1.0                    Anhui Province        Suzhou City   \n",
       "1            1.0    2.0                    Anhui Province        Suzhou City   \n",
       "2            2.0    3.0                    Anhui Province        Suzhou City   \n",
       "3            3.0    4.0                    Anhui Province       Huaibei City   \n",
       "4            4.0    5.0                    Anhui Province       Huaibei City   \n",
       "...          ...    ...                               ...                ...   \n",
       "2438         NaN   35.0  Xizang (Tibet) Autonomous Region  Chamdo Prefecture   \n",
       "2439         NaN   36.0  Xizang (Tibet) Autonomous Region   Ngari Prefecture   \n",
       "2440         NaN   54.0  Xizang (Tibet) Autonomous Region    Naqu Prefecture   \n",
       "2441         NaN   59.0  Xizang (Tibet) Autonomous Region  Chamdo Prefecture   \n",
       "2442         NaN   60.0  Xizang (Tibet) Autonomous Region  Chamdo Prefecture   \n",
       "\n",
       "                     CntyDstCty      LatDD      LongDD        Rank MineSize  \\\n",
       "0               Dangshan County  34.331641  116.482994  Bituminous    Large   \n",
       "1                   Xiao County  34.250348  116.596540  Bituminous    Small   \n",
       "2                   Xiao County  34.130176  116.787770  Bituminous   Medium   \n",
       "3                           NaN  34.023946  116.831329  Bituminous   Medium   \n",
       "4                           NaN  34.061551  116.887518  Bituminous   Medium   \n",
       "...                         ...        ...         ...         ...      ...   \n",
       "2438  Dingqing (Dengqen) County  32.293162   94.897254  Anthracite    Small   \n",
       "2439         Ga'er (Gar) County  31.370120   80.889489  Bituminous    Small   \n",
       "2440                Naqu County  31.385650   92.944476     Lignite    Small   \n",
       "2441   Leiwuqi (Riwoqe ) County  31.424566   96.754160  Bituminous    Small   \n",
       "2442   Leiwuqi (Riwoqe ) County  31.396922   96.692869  Anthracite    Small   \n",
       "\n",
       "         MineName  ... Unnamed: 9  allocation    矿山容量（万吨） 10火力发电占比（全国平均）  \\\n",
       "0       Dang shan  ...        NaN        10.0  364.965131       0.382138   \n",
       "1     Zhang datun  ...        NaN         1.0   36.496513       0.382138   \n",
       "2       Tang miao  ...        NaN         4.0  145.986052       0.382138   \n",
       "3          Dai he  ...        NaN         4.0  145.986052       0.382138   \n",
       "4         Shuo li  ...        NaN         4.0  145.986052       0.382138   \n",
       "...           ...  ...        ...         ...         ...            ...   \n",
       "2438    Zi jia pu  ...        NaN         1.0   36.496513       0.382138   \n",
       "2439          NaN  ...        NaN         1.0   36.496513       0.382138   \n",
       "2440     Se xiong  ...        NaN         1.0   36.496513       0.382138   \n",
       "2441     Ren qing  ...        NaN         1.0   36.496513       0.382138   \n",
       "2442    Ma cha la  ...        NaN         1.0   36.496513       0.382138   \n",
       "\n",
       "        Capacity Unnamed: 14  Unnamed: 15 矿山每份销量（万吨）  Unnamed: 17  煤炭全国销量10/13  \n",
       "0     139.467148         NaN          安徽省    42.2944          NaN     0.862917  \n",
       "1      13.946715         NaN          NaN        NaN          NaN          NaN  \n",
       "2      55.786859         NaN          NaN        NaN          NaN          NaN  \n",
       "3      55.786859         NaN          NaN        NaN          NaN          NaN  \n",
       "4      55.786859         NaN          NaN        NaN          NaN          NaN  \n",
       "...          ...         ...          ...        ...          ...          ...  \n",
       "2438   13.946715         NaN          NaN        NaN          NaN          NaN  \n",
       "2439   13.946715         NaN          NaN        NaN          NaN          NaN  \n",
       "2440   13.946715         NaN          NaN        NaN          NaN          NaN  \n",
       "2441   13.946715         NaN          NaN        NaN          NaN          NaN  \n",
       "2442   13.946715         NaN          NaN        NaN          NaN          NaN  \n",
       "\n",
       "[2443 rows x 30 columns]"
      ]
     },
     "execution_count": 33,
     "metadata": {},
     "output_type": "execute_result"
    },
    {
     "data": {
      "application/javascript": [
       "\n",
       "            setTimeout(function() {\n",
       "                var nbb_cell_id = 33;\n",
       "                var nbb_unformatted_code = \"mine_withCapacity\";\n",
       "                var nbb_formatted_code = \"mine_withCapacity\";\n",
       "                var nbb_cells = Jupyter.notebook.get_cells();\n",
       "                for (var i = 0; i < nbb_cells.length; ++i) {\n",
       "                    if (nbb_cells[i].input_prompt_number == nbb_cell_id) {\n",
       "                        if (nbb_cells[i].get_text() == nbb_unformatted_code) {\n",
       "                             nbb_cells[i].set_text(nbb_formatted_code);\n",
       "                        }\n",
       "                        break;\n",
       "                    }\n",
       "                }\n",
       "            }, 500);\n",
       "            "
      ],
      "text/plain": [
       "<IPython.core.display.Javascript object>"
      ]
     },
     "metadata": {},
     "output_type": "display_data"
    }
   ],
   "source": [
    "mine_withCapacity"
   ]
  },
  {
   "cell_type": "code",
   "execution_count": 34,
   "metadata": {},
   "outputs": [
    {
     "data": {
      "application/javascript": [
       "\n",
       "            setTimeout(function() {\n",
       "                var nbb_cell_id = 34;\n",
       "                var nbb_unformatted_code = \"mine_withCapacity_sorted_sumNode = mine_withCapacity.groupby(\\n    [\\\"Province\\\", \\\"node_id\\\"]\\n).sum()\";\n",
       "                var nbb_formatted_code = \"mine_withCapacity_sorted_sumNode = mine_withCapacity.groupby(\\n    [\\\"Province\\\", \\\"node_id\\\"]\\n).sum()\";\n",
       "                var nbb_cells = Jupyter.notebook.get_cells();\n",
       "                for (var i = 0; i < nbb_cells.length; ++i) {\n",
       "                    if (nbb_cells[i].input_prompt_number == nbb_cell_id) {\n",
       "                        if (nbb_cells[i].get_text() == nbb_unformatted_code) {\n",
       "                             nbb_cells[i].set_text(nbb_formatted_code);\n",
       "                        }\n",
       "                        break;\n",
       "                    }\n",
       "                }\n",
       "            }, 500);\n",
       "            "
      ],
      "text/plain": [
       "<IPython.core.display.Javascript object>"
      ]
     },
     "metadata": {},
     "output_type": "display_data"
    }
   ],
   "source": [
    "mine_withCapacity_sorted_sumNode = mine_withCapacity.groupby(\n",
    "    [\"Province\", \"node_id\"]\n",
    ").sum()"
   ]
  },
  {
   "cell_type": "code",
   "execution_count": 35,
   "metadata": {},
   "outputs": [
    {
     "data": {
      "text/plain": [
       "5160.284474966648"
      ]
     },
     "execution_count": 35,
     "metadata": {},
     "output_type": "execute_result"
    },
    {
     "data": {
      "application/javascript": [
       "\n",
       "            setTimeout(function() {\n",
       "                var nbb_cell_id = 35;\n",
       "                var nbb_unformatted_code = \"mine_withCapacity_sorted_sumNode.loc[\\\"Shandong Province\\\", \\\"Capacity\\\"].sum()\";\n",
       "                var nbb_formatted_code = \"mine_withCapacity_sorted_sumNode.loc[\\\"Shandong Province\\\", \\\"Capacity\\\"].sum()\";\n",
       "                var nbb_cells = Jupyter.notebook.get_cells();\n",
       "                for (var i = 0; i < nbb_cells.length; ++i) {\n",
       "                    if (nbb_cells[i].input_prompt_number == nbb_cell_id) {\n",
       "                        if (nbb_cells[i].get_text() == nbb_unformatted_code) {\n",
       "                             nbb_cells[i].set_text(nbb_formatted_code);\n",
       "                        }\n",
       "                        break;\n",
       "                    }\n",
       "                }\n",
       "            }, 500);\n",
       "            "
      ],
      "text/plain": [
       "<IPython.core.display.Javascript object>"
      ]
     },
     "metadata": {},
     "output_type": "display_data"
    }
   ],
   "source": [
    "mine_withCapacity_sorted_sumNode.loc[\"Shandong Province\", \"Capacity\"].sum()"
   ]
  },
  {
   "cell_type": "code",
   "execution_count": 36,
   "metadata": {},
   "outputs": [
    {
     "data": {
      "application/javascript": [
       "\n",
       "            setTimeout(function() {\n",
       "                var nbb_cell_id = 36;\n",
       "                var nbb_unformatted_code = \"coal_trans_dict = {}\\nfor province in coal_transport_mat_SD[\\\"start_province\\\"]:\\n    node_set = []\\n    for (province_name, node) in mine_withCapacity_sorted_sumNode.index:\\n        if province in province_name:\\n            node_set.append(node)\\n    coal_trans_dict[province] = node_set\";\n",
       "                var nbb_formatted_code = \"coal_trans_dict = {}\\nfor province in coal_transport_mat_SD[\\\"start_province\\\"]:\\n    node_set = []\\n    for (province_name, node) in mine_withCapacity_sorted_sumNode.index:\\n        if province in province_name:\\n            node_set.append(node)\\n    coal_trans_dict[province] = node_set\";\n",
       "                var nbb_cells = Jupyter.notebook.get_cells();\n",
       "                for (var i = 0; i < nbb_cells.length; ++i) {\n",
       "                    if (nbb_cells[i].input_prompt_number == nbb_cell_id) {\n",
       "                        if (nbb_cells[i].get_text() == nbb_unformatted_code) {\n",
       "                             nbb_cells[i].set_text(nbb_formatted_code);\n",
       "                        }\n",
       "                        break;\n",
       "                    }\n",
       "                }\n",
       "            }, 500);\n",
       "            "
      ],
      "text/plain": [
       "<IPython.core.display.Javascript object>"
      ]
     },
     "metadata": {},
     "output_type": "display_data"
    }
   ],
   "source": [
    "coal_trans_dict = {}\n",
    "for province in coal_transport_mat_SD[\"start_province\"]:\n",
    "    node_set = []\n",
    "    for (province_name, node) in mine_withCapacity_sorted_sumNode.index:\n",
    "        if province in province_name:\n",
    "            node_set.append(node)\n",
    "    coal_trans_dict[province] = node_set"
   ]
  },
  {
   "cell_type": "code",
   "execution_count": 37,
   "metadata": {},
   "outputs": [
    {
     "data": {
      "application/javascript": [
       "\n",
       "            setTimeout(function() {\n",
       "                var nbb_cell_id = 37;\n",
       "                var nbb_unformatted_code = \"from pulp import *\";\n",
       "                var nbb_formatted_code = \"from pulp import *\";\n",
       "                var nbb_cells = Jupyter.notebook.get_cells();\n",
       "                for (var i = 0; i < nbb_cells.length; ++i) {\n",
       "                    if (nbb_cells[i].input_prompt_number == nbb_cell_id) {\n",
       "                        if (nbb_cells[i].get_text() == nbb_unformatted_code) {\n",
       "                             nbb_cells[i].set_text(nbb_formatted_code);\n",
       "                        }\n",
       "                        break;\n",
       "                    }\n",
       "                }\n",
       "            }, 500);\n",
       "            "
      ],
      "text/plain": [
       "<IPython.core.display.Javascript object>"
      ]
     },
     "metadata": {},
     "output_type": "display_data"
    }
   ],
   "source": [
    "from pulp import *"
   ]
  },
  {
   "cell_type": "code",
   "execution_count": 38,
   "metadata": {},
   "outputs": [
    {
     "data": {
      "application/javascript": [
       "\n",
       "            setTimeout(function() {\n",
       "                var nbb_cell_id = 38;\n",
       "                var nbb_unformatted_code = \"prob = LpProblem(\\\"transportation\\\", LpMinimize)\";\n",
       "                var nbb_formatted_code = \"prob = LpProblem(\\\"transportation\\\", LpMinimize)\";\n",
       "                var nbb_cells = Jupyter.notebook.get_cells();\n",
       "                for (var i = 0; i < nbb_cells.length; ++i) {\n",
       "                    if (nbb_cells[i].input_prompt_number == nbb_cell_id) {\n",
       "                        if (nbb_cells[i].get_text() == nbb_unformatted_code) {\n",
       "                             nbb_cells[i].set_text(nbb_formatted_code);\n",
       "                        }\n",
       "                        break;\n",
       "                    }\n",
       "                }\n",
       "            }, 500);\n",
       "            "
      ],
      "text/plain": [
       "<IPython.core.display.Javascript object>"
      ]
     },
     "metadata": {},
     "output_type": "display_data"
    }
   ],
   "source": [
    "prob = LpProblem(\"transportation\", LpMinimize)"
   ]
  },
  {
   "cell_type": "code",
   "execution_count": 39,
   "metadata": {},
   "outputs": [
    {
     "data": {
      "application/javascript": [
       "\n",
       "            setTimeout(function() {\n",
       "                var nbb_cell_id = 39;\n",
       "                var nbb_unformatted_code = \"power_plant = transport_cost_matrix.columns\\nmine = transport_cost_matrix.index\";\n",
       "                var nbb_formatted_code = \"power_plant = transport_cost_matrix.columns\\nmine = transport_cost_matrix.index\";\n",
       "                var nbb_cells = Jupyter.notebook.get_cells();\n",
       "                for (var i = 0; i < nbb_cells.length; ++i) {\n",
       "                    if (nbb_cells[i].input_prompt_number == nbb_cell_id) {\n",
       "                        if (nbb_cells[i].get_text() == nbb_unformatted_code) {\n",
       "                             nbb_cells[i].set_text(nbb_formatted_code);\n",
       "                        }\n",
       "                        break;\n",
       "                    }\n",
       "                }\n",
       "            }, 500);\n",
       "            "
      ],
      "text/plain": [
       "<IPython.core.display.Javascript object>"
      ]
     },
     "metadata": {},
     "output_type": "display_data"
    }
   ],
   "source": [
    "power_plant = transport_cost_matrix.columns\n",
    "mine = transport_cost_matrix.index"
   ]
  },
  {
   "cell_type": "code",
   "execution_count": 40,
   "metadata": {},
   "outputs": [
    {
     "data": {
      "text/plain": [
       "136114151.28239483"
      ]
     },
     "execution_count": 40,
     "metadata": {},
     "output_type": "execute_result"
    },
    {
     "data": {
      "application/javascript": [
       "\n",
       "            setTimeout(function() {\n",
       "                var nbb_cell_id = 40;\n",
       "                var nbb_unformatted_code = \"power_data[\\\"\\u53d1\\u7535\\u8017\\u7528\\u539f\\u7164\\u91cf\\\\n\\uff08\\u5428\\uff09\\\"].sum()\";\n",
       "                var nbb_formatted_code = \"power_data[\\\"\\u53d1\\u7535\\u8017\\u7528\\u539f\\u7164\\u91cf\\\\n\\uff08\\u5428\\uff09\\\"].sum()\";\n",
       "                var nbb_cells = Jupyter.notebook.get_cells();\n",
       "                for (var i = 0; i < nbb_cells.length; ++i) {\n",
       "                    if (nbb_cells[i].input_prompt_number == nbb_cell_id) {\n",
       "                        if (nbb_cells[i].get_text() == nbb_unformatted_code) {\n",
       "                             nbb_cells[i].set_text(nbb_formatted_code);\n",
       "                        }\n",
       "                        break;\n",
       "                    }\n",
       "                }\n",
       "            }, 500);\n",
       "            "
      ],
      "text/plain": [
       "<IPython.core.display.Javascript object>"
      ]
     },
     "metadata": {},
     "output_type": "display_data"
    }
   ],
   "source": [
    "power_data[\"发电耗用原煤量\\n（吨）\"].sum()"
   ]
  },
  {
   "cell_type": "code",
   "execution_count": 41,
   "metadata": {},
   "outputs": [
    {
     "data": {
      "application/javascript": [
       "\n",
       "            setTimeout(function() {\n",
       "                var nbb_cell_id = 41;\n",
       "                var nbb_unformatted_code = \"power_capacity = power_data.groupby(\\\"node_id\\\")[\\\"\\u53d1\\u7535\\u8017\\u7528\\u539f\\u7164\\u91cf\\\\n\\uff08\\u5428\\uff09\\\"].sum()\";\n",
       "                var nbb_formatted_code = \"power_capacity = power_data.groupby(\\\"node_id\\\")[\\\"\\u53d1\\u7535\\u8017\\u7528\\u539f\\u7164\\u91cf\\\\n\\uff08\\u5428\\uff09\\\"].sum()\";\n",
       "                var nbb_cells = Jupyter.notebook.get_cells();\n",
       "                for (var i = 0; i < nbb_cells.length; ++i) {\n",
       "                    if (nbb_cells[i].input_prompt_number == nbb_cell_id) {\n",
       "                        if (nbb_cells[i].get_text() == nbb_unformatted_code) {\n",
       "                             nbb_cells[i].set_text(nbb_formatted_code);\n",
       "                        }\n",
       "                        break;\n",
       "                    }\n",
       "                }\n",
       "            }, 500);\n",
       "            "
      ],
      "text/plain": [
       "<IPython.core.display.Javascript object>"
      ]
     },
     "metadata": {},
     "output_type": "display_data"
    }
   ],
   "source": [
    "power_capacity = power_data.groupby(\"node_id\")[\"发电耗用原煤量\\n（吨）\"].sum()"
   ]
  },
  {
   "cell_type": "code",
   "execution_count": 42,
   "metadata": {},
   "outputs": [
    {
     "data": {
      "application/javascript": [
       "\n",
       "            setTimeout(function() {\n",
       "                var nbb_cell_id = 42;\n",
       "                var nbb_unformatted_code = \"mine_capacity = (mine_withCapacity.groupby(\\\"node_id\\\")[\\\"Capacity\\\"].sum()) * 10000\";\n",
       "                var nbb_formatted_code = \"mine_capacity = (mine_withCapacity.groupby(\\\"node_id\\\")[\\\"Capacity\\\"].sum()) * 10000\";\n",
       "                var nbb_cells = Jupyter.notebook.get_cells();\n",
       "                for (var i = 0; i < nbb_cells.length; ++i) {\n",
       "                    if (nbb_cells[i].input_prompt_number == nbb_cell_id) {\n",
       "                        if (nbb_cells[i].get_text() == nbb_unformatted_code) {\n",
       "                             nbb_cells[i].set_text(nbb_formatted_code);\n",
       "                        }\n",
       "                        break;\n",
       "                    }\n",
       "                }\n",
       "            }, 500);\n",
       "            "
      ],
      "text/plain": [
       "<IPython.core.display.Javascript object>"
      ]
     },
     "metadata": {},
     "output_type": "display_data"
    }
   ],
   "source": [
    "mine_capacity = (mine_withCapacity.groupby(\"node_id\")[\"Capacity\"].sum()) * 10000"
   ]
  },
  {
   "cell_type": "code",
   "execution_count": 43,
   "metadata": {},
   "outputs": [
    {
     "data": {
      "application/javascript": [
       "\n",
       "            setTimeout(function() {\n",
       "                var nbb_cell_id = 43;\n",
       "                var nbb_unformatted_code = \"# \\u4f9b\\u7ed9\\u4e0e\\u9700\\u6c42\\u7ea6\\u675f\\ndemand = {name: demand for name, demand in zip(power_plant, power_capacity.values)}\\nsupply = {name: supply for name, supply in zip(mine, mine_capacity)}\";\n",
       "                var nbb_formatted_code = \"# \\u4f9b\\u7ed9\\u4e0e\\u9700\\u6c42\\u7ea6\\u675f\\ndemand = {name: demand for name, demand in zip(power_plant, power_capacity.values)}\\nsupply = {name: supply for name, supply in zip(mine, mine_capacity)}\";\n",
       "                var nbb_cells = Jupyter.notebook.get_cells();\n",
       "                for (var i = 0; i < nbb_cells.length; ++i) {\n",
       "                    if (nbb_cells[i].input_prompt_number == nbb_cell_id) {\n",
       "                        if (nbb_cells[i].get_text() == nbb_unformatted_code) {\n",
       "                             nbb_cells[i].set_text(nbb_formatted_code);\n",
       "                        }\n",
       "                        break;\n",
       "                    }\n",
       "                }\n",
       "            }, 500);\n",
       "            "
      ],
      "text/plain": [
       "<IPython.core.display.Javascript object>"
      ]
     },
     "metadata": {},
     "output_type": "display_data"
    }
   ],
   "source": [
    "# 供给与需求约束\n",
    "demand = {name: demand for name, demand in zip(power_plant, power_capacity.values)}\n",
    "supply = {name: supply for name, supply in zip(mine, mine_capacity)}"
   ]
  },
  {
   "cell_type": "code",
   "execution_count": 44,
   "metadata": {},
   "outputs": [
    {
     "data": {
      "application/javascript": [
       "\n",
       "            setTimeout(function() {\n",
       "                var nbb_cell_id = 44;\n",
       "                var nbb_unformatted_code = \"weight = transport_cost_matrix.to_dict()\";\n",
       "                var nbb_formatted_code = \"weight = transport_cost_matrix.to_dict()\";\n",
       "                var nbb_cells = Jupyter.notebook.get_cells();\n",
       "                for (var i = 0; i < nbb_cells.length; ++i) {\n",
       "                    if (nbb_cells[i].input_prompt_number == nbb_cell_id) {\n",
       "                        if (nbb_cells[i].get_text() == nbb_unformatted_code) {\n",
       "                             nbb_cells[i].set_text(nbb_formatted_code);\n",
       "                        }\n",
       "                        break;\n",
       "                    }\n",
       "                }\n",
       "            }, 500);\n",
       "            "
      ],
      "text/plain": [
       "<IPython.core.display.Javascript object>"
      ]
     },
     "metadata": {},
     "output_type": "display_data"
    }
   ],
   "source": [
    "weight = transport_cost_matrix.to_dict()"
   ]
  },
  {
   "cell_type": "code",
   "execution_count": 45,
   "metadata": {},
   "outputs": [
    {
     "data": {
      "application/javascript": [
       "\n",
       "            setTimeout(function() {\n",
       "                var nbb_cell_id = 45;\n",
       "                var nbb_unformatted_code = \"route = [(p, m) for p in power_plant for m in mine]\";\n",
       "                var nbb_formatted_code = \"route = [(p, m) for p in power_plant for m in mine]\";\n",
       "                var nbb_cells = Jupyter.notebook.get_cells();\n",
       "                for (var i = 0; i < nbb_cells.length; ++i) {\n",
       "                    if (nbb_cells[i].input_prompt_number == nbb_cell_id) {\n",
       "                        if (nbb_cells[i].get_text() == nbb_unformatted_code) {\n",
       "                             nbb_cells[i].set_text(nbb_formatted_code);\n",
       "                        }\n",
       "                        break;\n",
       "                    }\n",
       "                }\n",
       "            }, 500);\n",
       "            "
      ],
      "text/plain": [
       "<IPython.core.display.Javascript object>"
      ]
     },
     "metadata": {},
     "output_type": "display_data"
    }
   ],
   "source": [
    "route = [(p, m) for p in power_plant for m in mine]"
   ]
  },
  {
   "cell_type": "code",
   "execution_count": 46,
   "metadata": {},
   "outputs": [
    {
     "data": {
      "application/javascript": [
       "\n",
       "            setTimeout(function() {\n",
       "                var nbb_cell_id = 46;\n",
       "                var nbb_unformatted_code = \"route_var = LpVariable.dicts(\\\"route\\\", (power_plant, mine), 0, None)\";\n",
       "                var nbb_formatted_code = \"route_var = LpVariable.dicts(\\\"route\\\", (power_plant, mine), 0, None)\";\n",
       "                var nbb_cells = Jupyter.notebook.get_cells();\n",
       "                for (var i = 0; i < nbb_cells.length; ++i) {\n",
       "                    if (nbb_cells[i].input_prompt_number == nbb_cell_id) {\n",
       "                        if (nbb_cells[i].get_text() == nbb_unformatted_code) {\n",
       "                             nbb_cells[i].set_text(nbb_formatted_code);\n",
       "                        }\n",
       "                        break;\n",
       "                    }\n",
       "                }\n",
       "            }, 500);\n",
       "            "
      ],
      "text/plain": [
       "<IPython.core.display.Javascript object>"
      ]
     },
     "metadata": {},
     "output_type": "display_data"
    }
   ],
   "source": [
    "route_var = LpVariable.dicts(\"route\", (power_plant, mine), 0, None)"
   ]
  },
  {
   "cell_type": "code",
   "execution_count": 47,
   "metadata": {},
   "outputs": [
    {
     "data": {
      "application/javascript": [
       "\n",
       "            setTimeout(function() {\n",
       "                var nbb_cell_id = 47;\n",
       "                var nbb_unformatted_code = \"prob += lpSum([route_var[p][m] * weight[p][m] for (p, m) in route])\";\n",
       "                var nbb_formatted_code = \"prob += lpSum([route_var[p][m] * weight[p][m] for (p, m) in route])\";\n",
       "                var nbb_cells = Jupyter.notebook.get_cells();\n",
       "                for (var i = 0; i < nbb_cells.length; ++i) {\n",
       "                    if (nbb_cells[i].input_prompt_number == nbb_cell_id) {\n",
       "                        if (nbb_cells[i].get_text() == nbb_unformatted_code) {\n",
       "                             nbb_cells[i].set_text(nbb_formatted_code);\n",
       "                        }\n",
       "                        break;\n",
       "                    }\n",
       "                }\n",
       "            }, 500);\n",
       "            "
      ],
      "text/plain": [
       "<IPython.core.display.Javascript object>"
      ]
     },
     "metadata": {},
     "output_type": "display_data"
    }
   ],
   "source": [
    "prob += lpSum([route_var[p][m] * weight[p][m] for (p, m) in route])"
   ]
  },
  {
   "cell_type": "code",
   "execution_count": 48,
   "metadata": {},
   "outputs": [
    {
     "data": {
      "application/javascript": [
       "\n",
       "            setTimeout(function() {\n",
       "                var nbb_cell_id = 48;\n",
       "                var nbb_unformatted_code = \"for p in power_plant:\\n    prob += lpSum([route_var[p][m]] for m in mine) >= demand[p]\\n\\nfor m in mine:\\n    prob += lpSum([route_var[p][m]] for p in power_plant) <= supply[m]\\n\\nfor coal_transport in coal_transport_mat_SD_dict.keys():\\n    if coal_transport != \\\"Shandong\\\":\\n        prob += (\\n            lpSum(\\n                [\\n                    route_var[p][m]\\n                    for p in power_plant\\n                    for m in mine\\n                    if m in coal_trans_dict[coal_transport]\\n                ]\\n            )\\n            <= coal_transport_mat_SD_dict[coal_transport] * 10000\\n        )\\n    else:\\n        prob += lpSum(\\n            [\\n                route_var[p][m]\\n                for p in power_plant\\n                for m in mine\\n                if m in coal_trans_dict[coal_transport]\\n            ]\\n        ) <= (coal_transport_mat_SD_dict[coal_transport] * 10000 / 0.27)\";\n",
       "                var nbb_formatted_code = \"for p in power_plant:\\n    prob += lpSum([route_var[p][m]] for m in mine) >= demand[p]\\n\\nfor m in mine:\\n    prob += lpSum([route_var[p][m]] for p in power_plant) <= supply[m]\\n\\nfor coal_transport in coal_transport_mat_SD_dict.keys():\\n    if coal_transport != \\\"Shandong\\\":\\n        prob += (\\n            lpSum(\\n                [\\n                    route_var[p][m]\\n                    for p in power_plant\\n                    for m in mine\\n                    if m in coal_trans_dict[coal_transport]\\n                ]\\n            )\\n            <= coal_transport_mat_SD_dict[coal_transport] * 10000\\n        )\\n    else:\\n        prob += lpSum(\\n            [\\n                route_var[p][m]\\n                for p in power_plant\\n                for m in mine\\n                if m in coal_trans_dict[coal_transport]\\n            ]\\n        ) <= (coal_transport_mat_SD_dict[coal_transport] * 10000 / 0.27)\";\n",
       "                var nbb_cells = Jupyter.notebook.get_cells();\n",
       "                for (var i = 0; i < nbb_cells.length; ++i) {\n",
       "                    if (nbb_cells[i].input_prompt_number == nbb_cell_id) {\n",
       "                        if (nbb_cells[i].get_text() == nbb_unformatted_code) {\n",
       "                             nbb_cells[i].set_text(nbb_formatted_code);\n",
       "                        }\n",
       "                        break;\n",
       "                    }\n",
       "                }\n",
       "            }, 500);\n",
       "            "
      ],
      "text/plain": [
       "<IPython.core.display.Javascript object>"
      ]
     },
     "metadata": {},
     "output_type": "display_data"
    }
   ],
   "source": [
    "for p in power_plant:\n",
    "    prob += lpSum([route_var[p][m]] for m in mine) >= demand[p]\n",
    "\n",
    "for m in mine:\n",
    "    prob += lpSum([route_var[p][m]] for p in power_plant) <= supply[m]\n",
    "\n",
    "for coal_transport in coal_transport_mat_SD_dict.keys():\n",
    "    if coal_transport != \"Shandong\":\n",
    "        prob += (\n",
    "            lpSum(\n",
    "                [\n",
    "                    route_var[p][m]\n",
    "                    for p in power_plant\n",
    "                    for m in mine\n",
    "                    if m in coal_trans_dict[coal_transport]\n",
    "                ]\n",
    "            )\n",
    "            <= coal_transport_mat_SD_dict[coal_transport] * 10000\n",
    "        )\n",
    "    else:\n",
    "        prob += lpSum(\n",
    "            [\n",
    "                route_var[p][m]\n",
    "                for p in power_plant\n",
    "                for m in mine\n",
    "                if m in coal_trans_dict[coal_transport]\n",
    "            ]\n",
    "        ) <= (coal_transport_mat_SD_dict[coal_transport] * 10000 / 0.27)"
   ]
  },
  {
   "cell_type": "code",
   "execution_count": 49,
   "metadata": {},
   "outputs": [
    {
     "data": {
      "text/plain": [
       "1"
      ]
     },
     "execution_count": 49,
     "metadata": {},
     "output_type": "execute_result"
    },
    {
     "data": {
      "application/javascript": [
       "\n",
       "            setTimeout(function() {\n",
       "                var nbb_cell_id = 49;\n",
       "                var nbb_unformatted_code = \"prob.solve()\";\n",
       "                var nbb_formatted_code = \"prob.solve()\";\n",
       "                var nbb_cells = Jupyter.notebook.get_cells();\n",
       "                for (var i = 0; i < nbb_cells.length; ++i) {\n",
       "                    if (nbb_cells[i].input_prompt_number == nbb_cell_id) {\n",
       "                        if (nbb_cells[i].get_text() == nbb_unformatted_code) {\n",
       "                             nbb_cells[i].set_text(nbb_formatted_code);\n",
       "                        }\n",
       "                        break;\n",
       "                    }\n",
       "                }\n",
       "            }, 500);\n",
       "            "
      ],
      "text/plain": [
       "<IPython.core.display.Javascript object>"
      ]
     },
     "metadata": {},
     "output_type": "display_data"
    }
   ],
   "source": [
    "prob.solve()"
   ]
  },
  {
   "cell_type": "code",
   "execution_count": 50,
   "metadata": {},
   "outputs": [
    {
     "data": {
      "text/plain": [
       "'Optimal'"
      ]
     },
     "execution_count": 50,
     "metadata": {},
     "output_type": "execute_result"
    },
    {
     "data": {
      "application/javascript": [
       "\n",
       "            setTimeout(function() {\n",
       "                var nbb_cell_id = 50;\n",
       "                var nbb_unformatted_code = \"LpStatus[prob.status]\";\n",
       "                var nbb_formatted_code = \"LpStatus[prob.status]\";\n",
       "                var nbb_cells = Jupyter.notebook.get_cells();\n",
       "                for (var i = 0; i < nbb_cells.length; ++i) {\n",
       "                    if (nbb_cells[i].input_prompt_number == nbb_cell_id) {\n",
       "                        if (nbb_cells[i].get_text() == nbb_unformatted_code) {\n",
       "                             nbb_cells[i].set_text(nbb_formatted_code);\n",
       "                        }\n",
       "                        break;\n",
       "                    }\n",
       "                }\n",
       "            }, 500);\n",
       "            "
      ],
      "text/plain": [
       "<IPython.core.display.Javascript object>"
      ]
     },
     "metadata": {},
     "output_type": "display_data"
    }
   ],
   "source": [
    "LpStatus[prob.status]"
   ]
  },
  {
   "cell_type": "code",
   "execution_count": 51,
   "metadata": {},
   "outputs": [
    {
     "data": {
      "application/javascript": [
       "\n",
       "            setTimeout(function() {\n",
       "                var nbb_cell_id = 51;\n",
       "                var nbb_unformatted_code = \"dic = {v.name: v.varValue for v in prob.variables()}\";\n",
       "                var nbb_formatted_code = \"dic = {v.name: v.varValue for v in prob.variables()}\";\n",
       "                var nbb_cells = Jupyter.notebook.get_cells();\n",
       "                for (var i = 0; i < nbb_cells.length; ++i) {\n",
       "                    if (nbb_cells[i].input_prompt_number == nbb_cell_id) {\n",
       "                        if (nbb_cells[i].get_text() == nbb_unformatted_code) {\n",
       "                             nbb_cells[i].set_text(nbb_formatted_code);\n",
       "                        }\n",
       "                        break;\n",
       "                    }\n",
       "                }\n",
       "            }, 500);\n",
       "            "
      ],
      "text/plain": [
       "<IPython.core.display.Javascript object>"
      ]
     },
     "metadata": {},
     "output_type": "display_data"
    }
   ],
   "source": [
    "dic = {v.name: v.varValue for v in prob.variables()}"
   ]
  },
  {
   "cell_type": "code",
   "execution_count": 52,
   "metadata": {},
   "outputs": [
    {
     "data": {
      "application/javascript": [
       "\n",
       "            setTimeout(function() {\n",
       "                var nbb_cell_id = 52;\n",
       "                var nbb_unformatted_code = \"for i in route_var.keys():\\n    for j in route_var[i].keys():\\n        route_var[i][j] = dic[str(route_var[i][j])]\";\n",
       "                var nbb_formatted_code = \"for i in route_var.keys():\\n    for j in route_var[i].keys():\\n        route_var[i][j] = dic[str(route_var[i][j])]\";\n",
       "                var nbb_cells = Jupyter.notebook.get_cells();\n",
       "                for (var i = 0; i < nbb_cells.length; ++i) {\n",
       "                    if (nbb_cells[i].input_prompt_number == nbb_cell_id) {\n",
       "                        if (nbb_cells[i].get_text() == nbb_unformatted_code) {\n",
       "                             nbb_cells[i].set_text(nbb_formatted_code);\n",
       "                        }\n",
       "                        break;\n",
       "                    }\n",
       "                }\n",
       "            }, 500);\n",
       "            "
      ],
      "text/plain": [
       "<IPython.core.display.Javascript object>"
      ]
     },
     "metadata": {},
     "output_type": "display_data"
    }
   ],
   "source": [
    "for i in route_var.keys():\n",
    "    for j in route_var[i].keys():\n",
    "        route_var[i][j] = dic[str(route_var[i][j])]"
   ]
  },
  {
   "cell_type": "code",
   "execution_count": 53,
   "metadata": {},
   "outputs": [
    {
     "data": {
      "application/javascript": [
       "\n",
       "            setTimeout(function() {\n",
       "                var nbb_cell_id = 53;\n",
       "                var nbb_unformatted_code = \"pd.DataFrame(route_var).to_excel(\\\"D:\\\\desktop\\\\coal_trasport2010.xlsx\\\")\";\n",
       "                var nbb_formatted_code = \"pd.DataFrame(route_var).to_excel(\\\"D:\\\\desktop\\\\coal_trasport2010.xlsx\\\")\";\n",
       "                var nbb_cells = Jupyter.notebook.get_cells();\n",
       "                for (var i = 0; i < nbb_cells.length; ++i) {\n",
       "                    if (nbb_cells[i].input_prompt_number == nbb_cell_id) {\n",
       "                        if (nbb_cells[i].get_text() == nbb_unformatted_code) {\n",
       "                             nbb_cells[i].set_text(nbb_formatted_code);\n",
       "                        }\n",
       "                        break;\n",
       "                    }\n",
       "                }\n",
       "            }, 500);\n",
       "            "
      ],
      "text/plain": [
       "<IPython.core.display.Javascript object>"
      ]
     },
     "metadata": {},
     "output_type": "display_data"
    }
   ],
   "source": [
    "pd.DataFrame(route_var).to_excel(\"D:\\desktop\\coal_trasport2010.xlsx\")"
   ]
  }
 ],
 "metadata": {
  "kernelspec": {
   "display_name": "Python [conda env:Geodata]",
   "language": "python",
   "name": "conda-env-Geodata-py"
  },
  "language_info": {
   "codemirror_mode": {
    "name": "ipython",
    "version": 3
   },
   "file_extension": ".py",
   "mimetype": "text/x-python",
   "name": "python",
   "nbconvert_exporter": "python",
   "pygments_lexer": "ipython3",
   "version": "3.7.6"
  },
  "toc": {
   "base_numbering": 1,
   "nav_menu": {},
   "number_sections": true,
   "sideBar": true,
   "skip_h1_title": false,
   "title_cell": "Table of Contents",
   "title_sidebar": "Contents",
   "toc_cell": false,
   "toc_position": {},
   "toc_section_display": true,
   "toc_window_display": false
  }
 },
 "nbformat": 4,
 "nbformat_minor": 4
}
